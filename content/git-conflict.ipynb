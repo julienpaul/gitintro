{
 "cells": [
  {
   "cell_type": "markdown",
   "id": "37d31a11-84b3-49c3-94de-33c4a134c50c",
   "metadata": {},
   "source": [
    "# Conflict Resolution"
   ]
  },
  {
   "cell_type": "markdown",
   "id": "409a1bd9-a292-4575-946a-383362097660",
   "metadata": {},
   "source": [
    "## Conflicts in Git and why they are good"
   ]
  },
  {
   "cell_type": "markdown",
   "id": "99e0a309-08e8-4779-aa97-d92fde919acf",
   "metadata": {},
   "source": [
    "Git is very good at resolving modifications when merging branches and in most cases a git merge runs smooth and automatic. Then a merge commit appears without you even noticing.\n",
    "\n",
    "But sometimes the same portion of the code/text is modified on two branches in two different ways and Git issues a conflict. Then you need to tell Git which version to keep (resolve it)."
   ]
  },
  {
   "cell_type": "markdown",
   "id": "ffc1dc1a-3d3c-4ad7-ae43-8237a56fcbf2",
   "metadata": {},
   "source": [
    "There are several ways to do that as we will see.\n",
    "\n",
    "Please remember:\n",
    "\n",
    "- It is good that Git conflicts exist: Git will not silently overwrite one of\n",
    "  two differing modifications.\n",
    "- Conflicts may look scary, but are not that bad after a little bit of\n",
    "  practice. Also they are luckily rare.\n",
    "- Don't be afraid of Git because of conflicts. You may not meet some conflicts\n",
    "  using other systems because you simply can't do the kinds of things you do\n",
    "  in Git.\n",
    "- You can take human measures to reduce them."
   ]
  },
  {
   "cell_type": "markdown",
   "id": "45fb52e8-2bf5-4ff1-8b31-e0764314bbcc",
   "metadata": {},
   "source": [
    "## Preparing a conflict"
   ]
  },
  {
   "cell_type": "markdown",
   "id": "044b182e-54ab-413f-aec2-1aa68339f624",
   "metadata": {},
   "source": [
    "We will make two branches, make two conflicting changes (both increase and\n",
    "decrease the amount of cilantro), and later we will try to merge them\n",
    "together."
   ]
  },
  {
   "cell_type": "markdown",
   "id": "24dec37d-a3db-4d7f-b9a2-da28a68c373d",
   "metadata": {},
   "source": [
    "Create two branches from `main`: one called `like-cilantro`, one called `dislike-cilantro`:"
   ]
  },
  {
   "cell_type": "code",
   "execution_count": 2,
   "id": "baf45dc8-33f2-48de-aff0-c581f52b2e7c",
   "metadata": {},
   "outputs": [
    {
     "name": "stdout",
     "output_type": "stream",
     "text": [
      "/home/julienpaul/Code/Notebooks/Git/content/recipe\n"
     ]
    }
   ],
   "source": [
    "%cd recipe"
   ]
  },
  {
   "cell_type": "code",
   "execution_count": 3,
   "id": "9ed5694b-b86e-4ae3-a080-8d37bacdaa34",
   "metadata": {},
   "outputs": [],
   "source": [
    "%%bash\n",
    "git branch like-cilantro main\n",
    "git branch dislike-cilantro main"
   ]
  },
  {
   "cell_type": "markdown",
   "id": "fbeb57f9-3799-4a84-a04a-c28631a2b8c4",
   "metadata": {},
   "source": [
    "- On the two branches make **different modifications** to the amount of the **same ingredient**:"
   ]
  },
  {
   "cell_type": "code",
   "execution_count": 4,
   "id": "782b6e08-5a6b-440b-bfa3-d8e1bf2e65b3",
   "metadata": {},
   "outputs": [
    {
     "name": "stderr",
     "output_type": "stream",
     "text": [
      "Basculement sur la branche 'like-cilantro'\n"
     ]
    }
   ],
   "source": [
    "%%bash\n",
    "git checkout like-cilantro"
   ]
  },
  {
   "cell_type": "code",
   "execution_count": 5,
   "id": "3f5af7bc-9952-4890-a9ef-9623a7245d7f",
   "metadata": {},
   "outputs": [
    {
     "name": "stdout",
     "output_type": "stream",
     "text": [
      "Overwriting ingredients.txt\n"
     ]
    }
   ],
   "source": [
    "%%writefile ingredients.txt\n",
    "\n",
    "* 2 tbsp cilantro\n",
    "* 2 avocados\n",
    "* 1 lime\n",
    "* 1 tsp salt\n",
    "* 1/2 onion"
   ]
  },
  {
   "cell_type": "code",
   "execution_count": 6,
   "id": "b97e60d5-3555-4f1a-8e2c-e3ec8e16a06e",
   "metadata": {},
   "outputs": [
    {
     "name": "stdout",
     "output_type": "stream",
     "text": [
      "[like-cilantro bb6804b] cilantro is so good!!\n",
      " 1 file changed, 1 insertion(+), 1 deletion(-)\n"
     ]
    }
   ],
   "source": [
    "%%bash\n",
    "git add .\n",
    "git commit -m \"cilantro is so good!!\""
   ]
  },
  {
   "cell_type": "code",
   "execution_count": 7,
   "id": "eb785e46-4be2-4ddb-b432-7333c75d97aa",
   "metadata": {},
   "outputs": [
    {
     "name": "stderr",
     "output_type": "stream",
     "text": [
      "Basculement sur la branche 'dislike-cilantro'\n"
     ]
    }
   ],
   "source": [
    "%%bash\n",
    "git checkout dislike-cilantro"
   ]
  },
  {
   "cell_type": "code",
   "execution_count": 8,
   "id": "4fa6d745-314a-429e-ad0d-3cda96dfa75b",
   "metadata": {},
   "outputs": [
    {
     "name": "stdout",
     "output_type": "stream",
     "text": [
      "Overwriting ingredients.txt\n"
     ]
    }
   ],
   "source": [
    "%%writefile ingredients.txt\n",
    "\n",
    "* 0.5 tbsp cilantro\n",
    "* 2 avocados\n",
    "* 1 lime\n",
    "* 1 tsp salt\n",
    "* 1/2 onion"
   ]
  },
  {
   "cell_type": "code",
   "execution_count": 9,
   "id": "56dd5761-a52c-44f6-9894-4c05393d22ae",
   "metadata": {},
   "outputs": [
    {
     "name": "stdout",
     "output_type": "stream",
     "text": [
      "[dislike-cilantro 8f67cdf] cilantro is not good!!\n",
      " 1 file changed, 1 insertion(+), 1 deletion(-)\n"
     ]
    }
   ],
   "source": [
    "%%bash\n",
    "git add .\n",
    "git commit -m \"cilantro is not good!!\""
   ]
  },
  {
   "cell_type": "code",
   "execution_count": 10,
   "id": "7e3fbce7-95b7-4deb-acc1-af304702ea35",
   "metadata": {},
   "outputs": [
    {
     "name": "stderr",
     "output_type": "stream",
     "text": [
      "Basculement sur la branche 'main'\n"
     ]
    }
   ],
   "source": [
    "%%bash\n",
    "git checkout main"
   ]
  },
  {
   "cell_type": "markdown",
   "id": "82f55a08-6b5b-4884-a257-5ffdf4bfe286",
   "metadata": {},
   "source": [
    "- On the branch `like-cilantro` we have the following change:"
   ]
  },
  {
   "cell_type": "code",
   "execution_count": 11,
   "id": "57171eb2-b6ab-48a8-9ea3-578b5b8fc3ad",
   "metadata": {},
   "outputs": [
    {
     "name": "stdout",
     "output_type": "stream",
     "text": [
      "diff --git a/ingredients.txt b/ingredients.txt\n",
      "index 2f4af79..82bbab0 100644\n",
      "--- a/ingredients.txt\n",
      "+++ b/ingredients.txt\n",
      "@@ -1,5 +1,5 @@\n",
      " \n",
      "-* 1 tbsp cilantro\n",
      "+* 2 tbsp cilantro\n",
      " * 2 avocados\n",
      " * 1 lime\n",
      " * 1 tsp salt\n"
     ]
    }
   ],
   "source": [
    "%%bash\n",
    "git diff main like-cilantro"
   ]
  },
  {
   "cell_type": "markdown",
   "id": "624590bc-2b97-47db-905b-234fc7b35660",
   "metadata": {},
   "source": [
    "- And on the branch `dislike-cilantro` we have the following change:"
   ]
  },
  {
   "cell_type": "code",
   "execution_count": 12,
   "id": "62590b81-9363-4daf-a9ee-38ffd39d15db",
   "metadata": {},
   "outputs": [
    {
     "name": "stdout",
     "output_type": "stream",
     "text": [
      "diff --git a/ingredients.txt b/ingredients.txt\n",
      "index 2f4af79..c2401c4 100644\n",
      "--- a/ingredients.txt\n",
      "+++ b/ingredients.txt\n",
      "@@ -1,5 +1,5 @@\n",
      " \n",
      "-* 1 tbsp cilantro\n",
      "+* 0.5 tbsp cilantro\n",
      " * 2 avocados\n",
      " * 1 lime\n",
      " * 1 tsp salt\n"
     ]
    }
   ],
   "source": [
    "%%bash\n",
    "git diff main dislike-cilantro"
   ]
  },
  {
   "cell_type": "markdown",
   "id": "6bc3c1cd-50cf-4521-8041-541fbbe51bd9",
   "metadata": {},
   "source": [
    "## Merging conflicting changes"
   ]
  },
  {
   "cell_type": "markdown",
   "id": "75f601ea-9336-4152-8c69-f7cf58233f28",
   "metadata": {},
   "source": [
    "What do you expect will happen when we try to merge these two branches into main?\n",
    "\n",
    "The first merge will work:"
   ]
  },
  {
   "cell_type": "code",
   "execution_count": 13,
   "id": "dba5d004-6fb4-4c76-aee3-c4dfeb0602aa",
   "metadata": {},
   "outputs": [
    {
     "name": "stderr",
     "output_type": "stream",
     "text": [
      "Déjà sur 'main'\n"
     ]
    },
    {
     "name": "stdout",
     "output_type": "stream",
     "text": [
      "Sur la branche main\n",
      "rien à valider, la copie de travail est propre\n"
     ]
    }
   ],
   "source": [
    "%%bash\n",
    "git checkout main\n",
    "git status"
   ]
  },
  {
   "cell_type": "code",
   "execution_count": 23,
   "id": "fcbc76ad-b6f9-47aa-8f6b-e125e1fbc6cc",
   "metadata": {},
   "outputs": [
    {
     "name": "stdout",
     "output_type": "stream",
     "text": [
      "Déjà à jour.\n"
     ]
    }
   ],
   "source": [
    "%%bash\n",
    "git merge like-cilantro"
   ]
  },
  {
   "cell_type": "markdown",
   "id": "394692a4-99ad-4c3b-9399-da741c3d6c75",
   "metadata": {},
   "source": [
    "But the second will fail:"
   ]
  },
  {
   "cell_type": "code",
   "execution_count": 24,
   "id": "997427da-f123-4711-bca5-87d468e5ea0b",
   "metadata": {},
   "outputs": [
    {
     "name": "stdout",
     "output_type": "stream",
     "text": [
      "Fusion automatique de ingredients.txt\n",
      "CONFLIT (contenu) : Conflit de fusion dans ingredients.txt\n",
      "La fusion automatique a échoué ; réglez les conflits et validez le résultat.\n"
     ]
    },
    {
     "ename": "CalledProcessError",
     "evalue": "Command 'b'git merge dislike-cilantro\\n'' returned non-zero exit status 1.",
     "output_type": "error",
     "traceback": [
      "\u001b[0;31m---------------------------------------------------------------------------\u001b[0m",
      "\u001b[0;31mCalledProcessError\u001b[0m                        Traceback (most recent call last)",
      "Cell \u001b[0;32mIn[24], line 1\u001b[0m\n\u001b[0;32m----> 1\u001b[0m \u001b[43mget_ipython\u001b[49m\u001b[43m(\u001b[49m\u001b[43m)\u001b[49m\u001b[38;5;241;43m.\u001b[39;49m\u001b[43mrun_cell_magic\u001b[49m\u001b[43m(\u001b[49m\u001b[38;5;124;43m'\u001b[39;49m\u001b[38;5;124;43mbash\u001b[39;49m\u001b[38;5;124;43m'\u001b[39;49m\u001b[43m,\u001b[49m\u001b[43m \u001b[49m\u001b[38;5;124;43m'\u001b[39;49m\u001b[38;5;124;43m'\u001b[39;49m\u001b[43m,\u001b[49m\u001b[43m \u001b[49m\u001b[38;5;124;43m'\u001b[39;49m\u001b[38;5;124;43mgit merge dislike-cilantro\u001b[39;49m\u001b[38;5;130;43;01m\\n\u001b[39;49;00m\u001b[38;5;124;43m'\u001b[39;49m\u001b[43m)\u001b[49m\n",
      "File \u001b[0;32m~/miniconda3/envs/gitbasics/lib/python3.11/site-packages/IPython/core/interactiveshell.py:2478\u001b[0m, in \u001b[0;36mInteractiveShell.run_cell_magic\u001b[0;34m(self, magic_name, line, cell)\u001b[0m\n\u001b[1;32m   2476\u001b[0m \u001b[38;5;28;01mwith\u001b[39;00m \u001b[38;5;28mself\u001b[39m\u001b[38;5;241m.\u001b[39mbuiltin_trap:\n\u001b[1;32m   2477\u001b[0m     args \u001b[38;5;241m=\u001b[39m (magic_arg_s, cell)\n\u001b[0;32m-> 2478\u001b[0m     result \u001b[38;5;241m=\u001b[39m \u001b[43mfn\u001b[49m\u001b[43m(\u001b[49m\u001b[38;5;241;43m*\u001b[39;49m\u001b[43margs\u001b[49m\u001b[43m,\u001b[49m\u001b[43m \u001b[49m\u001b[38;5;241;43m*\u001b[39;49m\u001b[38;5;241;43m*\u001b[39;49m\u001b[43mkwargs\u001b[49m\u001b[43m)\u001b[49m\n\u001b[1;32m   2480\u001b[0m \u001b[38;5;66;03m# The code below prevents the output from being displayed\u001b[39;00m\n\u001b[1;32m   2481\u001b[0m \u001b[38;5;66;03m# when using magics with decodator @output_can_be_silenced\u001b[39;00m\n\u001b[1;32m   2482\u001b[0m \u001b[38;5;66;03m# when the last Python token in the expression is a ';'.\u001b[39;00m\n\u001b[1;32m   2483\u001b[0m \u001b[38;5;28;01mif\u001b[39;00m \u001b[38;5;28mgetattr\u001b[39m(fn, magic\u001b[38;5;241m.\u001b[39mMAGIC_OUTPUT_CAN_BE_SILENCED, \u001b[38;5;28;01mFalse\u001b[39;00m):\n",
      "File \u001b[0;32m~/miniconda3/envs/gitbasics/lib/python3.11/site-packages/IPython/core/magics/script.py:154\u001b[0m, in \u001b[0;36mScriptMagics._make_script_magic.<locals>.named_script_magic\u001b[0;34m(line, cell)\u001b[0m\n\u001b[1;32m    152\u001b[0m \u001b[38;5;28;01melse\u001b[39;00m:\n\u001b[1;32m    153\u001b[0m     line \u001b[38;5;241m=\u001b[39m script\n\u001b[0;32m--> 154\u001b[0m \u001b[38;5;28;01mreturn\u001b[39;00m \u001b[38;5;28;43mself\u001b[39;49m\u001b[38;5;241;43m.\u001b[39;49m\u001b[43mshebang\u001b[49m\u001b[43m(\u001b[49m\u001b[43mline\u001b[49m\u001b[43m,\u001b[49m\u001b[43m \u001b[49m\u001b[43mcell\u001b[49m\u001b[43m)\u001b[49m\n",
      "File \u001b[0;32m~/miniconda3/envs/gitbasics/lib/python3.11/site-packages/IPython/core/magics/script.py:314\u001b[0m, in \u001b[0;36mScriptMagics.shebang\u001b[0;34m(self, line, cell)\u001b[0m\n\u001b[1;32m    309\u001b[0m \u001b[38;5;28;01mif\u001b[39;00m args\u001b[38;5;241m.\u001b[39mraise_error \u001b[38;5;129;01mand\u001b[39;00m p\u001b[38;5;241m.\u001b[39mreturncode \u001b[38;5;241m!=\u001b[39m \u001b[38;5;241m0\u001b[39m:\n\u001b[1;32m    310\u001b[0m     \u001b[38;5;66;03m# If we get here and p.returncode is still None, we must have\u001b[39;00m\n\u001b[1;32m    311\u001b[0m     \u001b[38;5;66;03m# killed it but not yet seen its return code. We don't wait for it,\u001b[39;00m\n\u001b[1;32m    312\u001b[0m     \u001b[38;5;66;03m# in case it's stuck in uninterruptible sleep. -9 = SIGKILL\u001b[39;00m\n\u001b[1;32m    313\u001b[0m     rc \u001b[38;5;241m=\u001b[39m p\u001b[38;5;241m.\u001b[39mreturncode \u001b[38;5;129;01mor\u001b[39;00m \u001b[38;5;241m-\u001b[39m\u001b[38;5;241m9\u001b[39m\n\u001b[0;32m--> 314\u001b[0m     \u001b[38;5;28;01mraise\u001b[39;00m CalledProcessError(rc, cell)\n",
      "\u001b[0;31mCalledProcessError\u001b[0m: Command 'b'git merge dislike-cilantro\\n'' returned non-zero exit status 1."
     ]
    }
   ],
   "source": [
    "%%bash\n",
    "git merge dislike-cilantro"
   ]
  },
  {
   "cell_type": "markdown",
   "id": "2bdcbddc-b39c-494d-9bc6-c21d46cfa41d",
   "metadata": {},
   "source": [
    "Without conflict Git would have automatically created a merge commit,\n",
    "but since there is a conflict, Git did not commit:"
   ]
  },
  {
   "cell_type": "code",
   "execution_count": 16,
   "id": "d35e75e2-e000-45b9-bf74-f0eb13129916",
   "metadata": {},
   "outputs": [
    {
     "name": "stdout",
     "output_type": "stream",
     "text": [
      "Sur la branche main\n",
      "Vous avez des chemins non fusionnés.\n",
      "  (réglez les conflits puis lancez \"git commit\")\n",
      "  (utilisez \"git merge --abort\" pour annuler la fusion)\n",
      "\n",
      "Chemins non fusionnés :\n",
      "  (utilisez \"git add <fichier>...\" pour marquer comme résolu)\n",
      "\tmodifié des deux côtés :  ingredients.txt\n",
      "\n",
      "aucune modification n'a été ajoutée à la validation (utilisez \"git add\" ou \"git commit -a\")\n"
     ]
    }
   ],
   "source": [
    "%%bash\n",
    "git status"
   ]
  },
  {
   "cell_type": "markdown",
   "id": "7d83504d-944f-4ab9-b0f4-c4636d22b26f",
   "metadata": {},
   "source": [
    "Git won’t decide which to take and we need to decide. Observe how Git gives us clear instructions on how to move forward.\n",
    "\n",
    "Let us inspect the conflicting file:"
   ]
  },
  {
   "cell_type": "code",
   "execution_count": 18,
   "id": "f7b13650-e38b-41ac-ae9c-5e52a6ec8187",
   "metadata": {},
   "outputs": [
    {
     "name": "stdout",
     "output_type": "stream",
     "text": [
      "\n",
      "<<<<<<< HEAD\n",
      "* 2 tbsp cilantro\n",
      "=======\n",
      "* 0.5 tbsp cilantro\n",
      ">>>>>>> dislike-cilantro\n",
      "* 2 avocados\n",
      "* 1 lime\n",
      "* 1 tsp salt\n",
      "* 1/2 onion\n"
     ]
    }
   ],
   "source": [
    "%%bash\n",
    "cat ingredients.txt"
   ]
  },
  {
   "cell_type": "markdown",
   "id": "60953d6c-2248-474c-ae62-cfc0efe15e6b",
   "metadata": {},
   "source": [
    "Git inserted resolution markers (the <<<<<<<, >>>>>>>, and =======).\n",
    "\n",
    "Try also git diff:"
   ]
  },
  {
   "cell_type": "code",
   "execution_count": 25,
   "id": "1283ed45-3ca8-4cf1-83c5-71ba247b4713",
   "metadata": {},
   "outputs": [
    {
     "name": "stdout",
     "output_type": "stream",
     "text": [
      "diff --cc ingredients.txt\n",
      "index 82bbab0,c2401c4..0000000\n",
      "--- a/ingredients.txt\n",
      "+++ b/ingredients.txt\n",
      "@@@ -1,5 -1,5 +1,9 @@@\n",
      "  \n",
      "++<<<<<<< HEAD\n",
      " +* 2 tbsp cilantro\n",
      "++=======\n",
      "+ * 0.5 tbsp cilantro\n",
      "++>>>>>>> dislike-cilantro\n",
      "  * 2 avocados\n",
      "  * 1 lime\n",
      "  * 1 tsp salt\n"
     ]
    }
   ],
   "source": [
    "%%bash\n",
    "git diff"
   ]
  },
  {
   "cell_type": "markdown",
   "id": "53b713ae-cd23-447d-b488-6a60dddce806",
   "metadata": {},
   "source": [
    "`git diff` now only shows the conflicting part, nothing else."
   ]
  },
  {
   "cell_type": "markdown",
   "id": "09591386-fdd3-43ac-906a-4d62f1170c67",
   "metadata": {},
   "source": [
    "## Aborting a conflicting merge"
   ]
  },
  {
   "cell_type": "markdown",
   "id": "a7ae8fdc-b828-46a9-a15e-f721f9287f67",
   "metadata": {
    "jp-MarkdownHeadingCollapsed": true
   },
   "source": [
    "Sometimes you get a merge conflict but realize that you can't solve it without\n",
    "talking to a colleague (who created the other change) first. What to do?\n",
    "\n",
    "You can abort the merge and postponing conflict resolution by resetting the\n",
    "repository to `HEAD` (last committed state):\n",
    "\n",
    "```console\n",
    "$ git merge --abort\n",
    "```\n",
    "\n",
    "The repository looks then exactly as it was before the merge."
   ]
  },
  {
   "cell_type": "markdown",
   "id": "235685df-c91d-4af9-8348-8fae52005f8c",
   "metadata": {},
   "source": [
    "## Resolving the conflict."
   ]
  },
  {
   "cell_type": "markdown",
   "id": "833a9091-6be8-48e5-acb4-b260b6c3c5e2",
   "metadata": {},
   "source": [
    "We will discuss 3 different ways to do this."
   ]
  },
  {
   "cell_type": "markdown",
   "id": "073f118a-aa49-4b46-8899-2c0154329a9c",
   "metadata": {},
   "source": [
    "### Manual resolution\n",
    "\n",
    "We have to edit the code/text between the resolution markers.  You\n",
    "only have to care about what Git shows you: Git stages all files\n",
    "without conflicts and leaves the files with conflicts unstaged.\n",
    "\n",
    "> **Steps to resolve a conflict:**\n",
    "> - Check status with `git status` and `git diff`.\n",
    "> - Decide what you keep (the one, the other, or both or something else). Edit the file to do this.\n",
    "    - Remove the resolution markers, if not already done.\n",
    "    - The file(s) should now look exactly how you want them.\n",
    "> - Check status with `git status` and `git diff`.\n",
    "> - Tell Git that you have resolved the conflict with `git add ingredients.txt` (with certain plugin the editor may stage the change for you after you have removed the conflict markers).\n",
    "> - Verify the result with `git status`.\n",
    "> - Finally commit the merge with only `git commit`. Everything is pre-filled.\n"
   ]
  },
  {
   "cell_type": "code",
   "execution_count": 26,
   "id": "d002168a-84c4-4e95-8609-2a5034dff1bd",
   "metadata": {},
   "outputs": [
    {
     "name": "stdout",
     "output_type": "stream",
     "text": [
      "diff --cc ingredients.txt\n",
      "index 82bbab0,c2401c4..0000000\n",
      "--- a/ingredients.txt\n",
      "+++ b/ingredients.txt\n",
      "@@@ -1,5 -1,5 +1,9 @@@\n",
      "  \n",
      "++<<<<<<< HEAD\n",
      " +* 2 tbsp cilantro\n",
      "++=======\n",
      "+ * 0.5 tbsp cilantro\n",
      "++>>>>>>> dislike-cilantro\n",
      "  * 2 avocados\n",
      "  * 1 lime\n",
      "  * 1 tsp salt\n"
     ]
    }
   ],
   "source": [
    "%%bash\n",
    "git diff"
   ]
  },
  {
   "cell_type": "code",
   "execution_count": 27,
   "id": "905cb5b2-0316-49ad-9f21-6e72d3f0d8c3",
   "metadata": {},
   "outputs": [
    {
     "name": "stdout",
     "output_type": "stream",
     "text": [
      "Overwriting ingredients.txt\n"
     ]
    }
   ],
   "source": [
    "%%writefile ingredients.txt\n",
    "\n",
    "* 1.25 tbsp cilantro\n",
    "* 2 avocados\n",
    "* 1 lime\n",
    "* 1 tsp salt\n",
    "* 1/2 onion"
   ]
  },
  {
   "cell_type": "code",
   "execution_count": 29,
   "id": "a3398014-6d63-47b1-aed1-de66ccb07b48",
   "metadata": {},
   "outputs": [],
   "source": [
    "%%bash\n",
    "git add ingredients.txt\n",
    "git status"
   ]
  },
  {
   "cell_type": "code",
   "execution_count": 32,
   "id": "d86d66c7-c2e8-4c90-bc6c-9009aae6af83",
   "metadata": {},
   "outputs": [
    {
     "name": "stdout",
     "output_type": "stream",
     "text": [
      "[main 96ac8ef] Merge branch 'dislike cilantro'\n"
     ]
    }
   ],
   "source": [
    "%%bash\n",
    "git commit -m \"Merge branch 'dislike cilantro'\""
   ]
  },
  {
   "cell_type": "markdown",
   "id": "844d7715-9ef8-4d94-826f-ce8b0e14f604",
   "metadata": {},
   "source": [
    "### Resolve a conflict using mergetool\n",
    "\n",
    "- Instead of resolving the conflict manually, use a visual tool\n",
    "    (requires installing one of the [visual diff tools](https://coderefinery.github.io/installation/difftools/)):\n",
    "\n",
    "> First check (look for `merge.tool`) and set up config diff tool:\n",
    "> ```\n",
    "> git config --list\n",
    "> ```  \n",
    ">     \n",
    "> if no `merge.tool` configure, first list available tools:\n",
    "> ```\n",
    "> git mergetool --tool-help\n",
    "> ```\n",
    ">     \n",
    "> select and set up the `merge.tool`:\n",
    "> ```\n",
    "> git config --global merge.tool vimdiff\n",
    "> ```\n",
    "\n",
    "```\n",
    "$ git mergetool\n",
    "```\n",
    "\n",
    "<img src=\"img/mergetool.png\" alt=\"\" width=\"800\" height=\"300\"/>\n",
    "\n",
    " - Your current branch is left, the branch you merge is right, base is in the middle, and below is the diff.\n",
    " - After you are done, close and commit, `git add` is not needed when using `git mergetool`.\n",
    "\n",
    "  If you have not instructed Git to avoid creating backups when using mergetool, then to be on\n",
    "  the safe side there will be additional temporary files created. To remove those  you can do\n",
    "  a git clean after the merging.\n",
    "\n",
    " To view what will be removed:\n",
    "\n",
    "  ```\n",
    "  $ git clean -n\n",
    "  ```\n",
    "\n",
    "  To remove:\n",
    "\n",
    "  ```\n",
    "  $ git clean -f\n",
    "  ```\n",
    "\n",
    "> **Note:**  \n",
    "> To configure Git to avoid creating backups at all:\n",
    ">  ```\n",
    "> $ git config --global mergetool.keepBackup false\n",
    "> ```"
   ]
  },
  {
   "cell_type": "markdown",
   "id": "585be435-5781-47a4-9772-d9728377851a",
   "metadata": {},
   "source": [
    "### Using \"ours\" or \"theirs\" strategy\n",
    "\n",
    "- Sometimes you know that you want to keep \"ours\" version (version on this branch)\n",
    "  or \"theirs\" (version on the merged branch).\n",
    "- Then you do not have to resolve conflicts manually.\n",
    "- See [merge strategies](https://git-scm.com/docs/merge-strategies).\n",
    "\n",
    "Example:\n",
    "\n",
    "```console\n",
    "$ git merge -s recursive -Xours <branchname>  # merge and in doubt take the changes from current branch\n",
    "```\n",
    "\n",
    "Or:\n",
    "\n",
    "```console\n",
    "$ git merge -s recursive -Xtheirs <branchname>  # merge and in doubt take the changes from less-avocados branch\n",
    "```\n"
   ]
  },
  {
   "cell_type": "markdown",
   "id": "8d0981b7-f9a6-4527-828a-f3b95909a5b3",
   "metadata": {},
   "source": [
    "## Avoiding conflicts"
   ]
  },
  {
   "cell_type": "markdown",
   "id": "82390925-975e-4c6b-ab5a-a1c32ac673ba",
   "metadata": {},
   "source": [
    "- Human measures\n",
    "  - Think and plan to which branch you will commit to.\n",
    "  - Do not put unrelated changes on the same branch.\n",
    "- Collaboration measures\n",
    "  - Open an issue and discuss with collaborators before starting a long-living\n",
    "    branch.\n",
    "- Project layout measures\n",
    "  - Modifying global data often causes conflicts.\n",
    "  - Modular programming minimizes risk of conflicts.\n",
    "- Technical measures\n",
    "  - **Share your changes early and often** - this is one of the happy,\n",
    "    rare circumstances when everyone doing the selfish thing (e.g. `git push` as\n",
    "    early as practical) results in best case for everyone!\n",
    "  - Pull/rebase often to keep up to date with upstream.\n",
    "  - Resolve conflicts early."
   ]
  },
  {
   "cell_type": "markdown",
   "id": "b260d32e-4169-4795-893a-d48872909930",
   "metadata": {},
   "source": [
    "# Summary\n",
    "```\n",
    "$ git merge --abort          # abort the merge and resetting the repository to HEAD (last committed state)\n",
    "$ git mergetool --tool-help  # list available merge tools\n",
    "$ git mergetool              # run merge conflict resolution tools to resolve merge conflicts\n",
    "$ git clean -f               # remove additional temporary files\n",
    "```"
   ]
  },
  {
   "cell_type": "markdown",
   "id": "43cf3110-c5a8-4d5b-b984-8c732a0e176d",
   "metadata": {},
   "source": [
    "---\n",
    "\n",
    "[back <](git-branches.ipynb)  [menu](../git-intro.ipynb)  [> next](git-online.ipynb) \n",
    "\n",
    "---"
   ]
  }
 ],
 "metadata": {
  "kernelspec": {
   "display_name": "Python 3 (ipykernel)",
   "language": "python",
   "name": "python3"
  },
  "language_info": {
   "codemirror_mode": {
    "name": "ipython",
    "version": 3
   },
   "file_extension": ".py",
   "mimetype": "text/x-python",
   "name": "python",
   "nbconvert_exporter": "python",
   "pygments_lexer": "ipython3",
   "version": "3.11.3"
  }
 },
 "nbformat": 4,
 "nbformat_minor": 5
}
