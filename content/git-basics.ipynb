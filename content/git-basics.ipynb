{
 "cells": [
  {
   "cell_type": "markdown",
   "id": "2d02bb1f-355d-4f5e-a9f8-a3ce3fd3b932",
   "metadata": {
    "tags": []
   },
   "source": [
    "# Basics"
   ]
  },
  {
   "cell_type": "markdown",
   "id": "9baeaf54-5713-4879-80b8-811371b2ffb9",
   "metadata": {},
   "source": [
    "**Tracking a guacamole recipe with Git**\n",
    "\n",
    "We will learn how to initialize a Git repository, how to track changes, and how to make delicious guacamole!"
   ]
  },
  {
   "cell_type": "markdown",
   "id": "5ce58758-1ded-4ad3-bc09-56ffec5ce363",
   "metadata": {},
   "source": [
    "## Creates an empty Git repository\n",
    "\n",
    "```\n",
    "$ git init\n",
    "```"
   ]
  },
  {
   "cell_type": "code",
   "execution_count": null,
   "id": "d45986e4-7746-456a-97f6-3444d8f11565",
   "metadata": {},
   "outputs": [],
   "source": [
    "%%bash\n",
    "mkdir recipe\n",
    "cd recipe\n",
    "git init\n",
    "git branch -m main  # rename branch to main"
   ]
  },
  {
   "cell_type": "markdown",
   "id": "d55136ed-883a-4c86-ab98-1c03279858f0",
   "metadata": {},
   "source": [
    "We move to the new folder"
   ]
  },
  {
   "cell_type": "code",
   "execution_count": null,
   "id": "27a8b273-5312-45e7-9fcd-dc552913a4e4",
   "metadata": {},
   "outputs": [],
   "source": [
    "%cd recipe"
   ]
  },
  {
   "cell_type": "markdown",
   "id": "6834b97e-e85d-4f54-bc67-c84af9b61333",
   "metadata": {},
   "source": [
    "## Checks out what is going on\n",
    "```\n",
    "$ git status\n",
    "``` "
   ]
  },
  {
   "cell_type": "code",
   "execution_count": null,
   "id": "26a5c24c-09bc-4fe0-b4f1-db8508863eb2",
   "metadata": {
    "scrolled": true
   },
   "outputs": [],
   "source": [
    "%%bash\n",
    "git status"
   ]
  },
  {
   "cell_type": "markdown",
   "id": "619eaba2-df48-4109-9c5d-c13ea4471035",
   "metadata": {},
   "source": [
    "## Adds file(s) or *stages* changes\n",
    "```\n",
    "$ git add\n",
    "``` "
   ]
  },
  {
   "cell_type": "markdown",
   "id": "3e0a7467-10a4-430a-a0a6-d5ae9c1cd628",
   "metadata": {},
   "source": [
    "Let us now **create two files**.\n",
    "\n",
    "One file is called `instructions.txt` and contains:"
   ]
  },
  {
   "cell_type": "code",
   "execution_count": null,
   "id": "506be7c3-fdca-456d-87b1-80683fcb5487",
   "metadata": {
    "scrolled": true
   },
   "outputs": [],
   "source": [
    "%%writefile instructions.txt\n",
    "\n",
    "* chop avocados\n",
    "* chop onion\n",
    "* squeeze lime\n",
    "* add salt\n",
    "* and mix well"
   ]
  },
  {
   "cell_type": "markdown",
   "id": "c8b549e1-4ecc-4ee2-aa96-072be20e37fd",
   "metadata": {},
   "source": [
    "The second file is called `ingredients.txt` and contains:"
   ]
  },
  {
   "cell_type": "code",
   "execution_count": null,
   "id": "55789de8-c9f1-4be0-8485-1ecaaad723e8",
   "metadata": {},
   "outputs": [],
   "source": [
    " %%writefile ingredients.txt\n",
    "\n",
    "* 2 avocados\n",
    "* 1 lime\n",
    "* 2 tsp salt"
   ]
  },
  {
   "cell_type": "code",
   "execution_count": null,
   "id": "8da8c360-abb1-4aff-95f3-77c8e28fed02",
   "metadata": {
    "scrolled": true
   },
   "outputs": [],
   "source": [
    "%%bash\n",
    "git status"
   ]
  },
  {
   "cell_type": "markdown",
   "id": "9bae7e44-0eec-4c8e-8b44-15c43d9d0896",
   "metadata": {},
   "source": [
    "The two files are untracked in the repository (directory). You want to **add the files** (focus the camera)\n",
    "to the list of files tracked by Git. Git does not track\n",
    "any files automatically and you need make a conscious decision to add a file. Let's do what\n",
    "Git hints at and add the files:"
   ]
  },
  {
   "cell_type": "code",
   "execution_count": null,
   "id": "b8418af0-7680-4af7-aea7-1ac8b8e2509d",
   "metadata": {},
   "outputs": [],
   "source": [
    "%%bash\n",
    "git add ingredients.txt\n",
    "git add instructions.txt\n",
    "git status"
   ]
  },
  {
   "cell_type": "markdown",
   "id": "7f8bd10f-1efc-4c9c-979d-e62723cc297b",
   "metadata": {},
   "source": [
    "## Commits the change to the repository\n",
    "```\n",
    "$ git commit\n",
    "``` "
   ]
  },
  {
   "cell_type": "code",
   "execution_count": null,
   "id": "aec1ef08-b2f3-4f84-ad49-90914c634bf7",
   "metadata": {},
   "outputs": [],
   "source": [
    "%%bash\n",
    "git commit -m \"adding ingredients and instructions\""
   ]
  },
  {
   "cell_type": "markdown",
   "id": "a622999d-f274-4703-9628-f2ed7d6422fb",
   "metadata": {},
   "source": [
    "> **_NOTE:_** `git commit` without flag `-m` should open the editor which you have configured."
   ]
  },
  {
   "cell_type": "code",
   "execution_count": null,
   "id": "e1ade5a1-2524-452b-9494-0c67333cde3a",
   "metadata": {},
   "outputs": [],
   "source": [
    "%%bash\n",
    "git status"
   ]
  },
  {
   "cell_type": "markdown",
   "id": "b135f4d0-0d91-4f04-843d-5c9de2573401",
   "metadata": {},
   "source": [
    "## Show unstaged/uncommitted modifications\n",
    "```\n",
    "$ git diff\n",
    "``` "
   ]
  },
  {
   "cell_type": "markdown",
   "id": "c26f79b4-a6e8-409c-a79e-52ea3b2de6c8",
   "metadata": {},
   "source": [
    "Add 1/2 onion to `ingredients.txt` and also the instruction to \"enjoy!\" to `instructions.txt`. Do not stage the changes yet (do not `git add` yet)"
   ]
  },
  {
   "cell_type": "code",
   "execution_count": null,
   "id": "2101742f",
   "metadata": {},
   "outputs": [],
   "source": [
    "%%writefile instructions.txt\n",
    "\n",
    "* chop avocados\n",
    "* chop onion\n",
    "* squeeze lime\n",
    "* add salt\n",
    "* and mix well\n",
    "* don't forget to enjoy"
   ]
  },
  {
   "cell_type": "code",
   "execution_count": null,
   "id": "e3ce9d28",
   "metadata": {},
   "outputs": [],
   "source": [
    " %%writefile ingredients.txt\n",
    "\n",
    "* 2 avocados\n",
    "* 1 lime\n",
    "* 2 tsp salt\n",
    "* 1/2 onion"
   ]
  },
  {
   "cell_type": "code",
   "execution_count": null,
   "id": "5a84769e-dc45-4006-a9f1-40b798c4e669",
   "metadata": {},
   "outputs": [],
   "source": [
    "%%bash\n",
    "git status"
   ]
  },
  {
   "cell_type": "code",
   "execution_count": null,
   "id": "71e8fce0-986c-4455-8a00-276d800a7d40",
   "metadata": {},
   "outputs": [],
   "source": [
    "%%bash\n",
    "git diff"
   ]
  },
  {
   "cell_type": "markdown",
   "id": "e3bea67c-a661-43fe-83f1-46747bd8b5ad",
   "metadata": {},
   "source": [
    "> **_NOTE:_**  \n",
    ">  git diff                        : Compare working area to index (stage area).  \n",
    "<!--\n",
    ">  git diff --staged     : Compare stage area to repository.)  \n",
    ">  git diff HEAD          : Compare working area to repository\n",
    "-->"
   ]
  },
  {
   "cell_type": "markdown",
   "id": "babd6322-4fe3-4008-8965-772929bdfbae",
   "metadata": {},
   "source": [
    "Now first stage and commit each change separately"
   ]
  },
  {
   "cell_type": "code",
   "execution_count": null,
   "id": "90952e56-6e47-4153-8c61-2bf3061f5c3f",
   "metadata": {},
   "outputs": [],
   "source": [
    " %%bash\n",
    "git add ingredients.txt\n",
    "git commit -m \"add half an onion\""
   ]
  },
  {
   "cell_type": "code",
   "execution_count": null,
   "id": "bbe21eb8-d33d-40ba-946d-1911aad05be4",
   "metadata": {
    "scrolled": true
   },
   "outputs": [],
   "source": [
    "%%bash\n",
    "git add instructions.txt\n",
    "git commit -m \"don't forget to enjoy\""
   ]
  },
  {
   "cell_type": "markdown",
   "id": "c40028d3-3089-4a47-9cf9-b670bca08ddf",
   "metadata": {},
   "source": [
    "## See history\n",
    "```\n",
    "$ git log\n",
    "$ git log --stat\n",
    "$ git log --oneline\n",
    "```"
   ]
  },
  {
   "cell_type": "markdown",
   "id": "aabc7d1e-4b37-4666-a179-4c7b7511d50c",
   "metadata": {},
   "source": [
    "- We can browse the development and access each state that we have committed.\n",
    "- The long hashes uniquely label a state of the code.\n",
    "- Output is in reverse chronological order, i.e. **newest commits on top**.\n",
    "- We will use them when comparing versions and when going back in time.\n",
    "    - If the first characters of the hash are unique it is not necessary to type the entire hash.\n",
    "  "
   ]
  },
  {
   "cell_type": "code",
   "execution_count": null,
   "id": "7da5d86b-6636-496c-8694-49680815c08b",
   "metadata": {},
   "outputs": [],
   "source": [
    "%%bash\n",
    "git log"
   ]
  },
  {
   "cell_type": "markdown",
   "id": "7fba60bf-c16f-46bb-901c-6ad08b83d502",
   "metadata": {},
   "source": [
    "`git log --oneline` only shows the first 7 characters of the commit hash and is good to get an overview.\n",
    "  "
   ]
  },
  {
   "cell_type": "code",
   "execution_count": null,
   "id": "6c5e5b8e",
   "metadata": {},
   "outputs": [],
   "source": [
    "%%bash\n",
    "git log --oneline"
   ]
  },
  {
   "cell_type": "markdown",
   "id": "784aa4e5-3e35-4a7a-8388-65b95600d2ee",
   "metadata": {},
   "source": [
    "`git log --stat` is nice to show which files have been modified."
   ]
  },
  {
   "cell_type": "code",
   "execution_count": null,
   "id": "c1462a98",
   "metadata": {},
   "outputs": [],
   "source": [
    "%%bash\n",
    "git log --stat"
   ]
  },
  {
   "cell_type": "markdown",
   "id": "254902a5-97bb-45ed-90fe-5ba8dcfbee2c",
   "metadata": {},
   "source": [
    "## Show the change for a specific commit\n",
    "```\n",
    "$ git show\n",
    "```"
   ]
  },
  {
   "cell_type": "code",
   "execution_count": null,
   "id": "e906d73c-aad4-4fb1-bd64-6a2ef3b09140",
   "metadata": {
    "scrolled": true
   },
   "outputs": [],
   "source": [
    "%%bash\n",
    "# git show <commit-id>"
   ]
  },
  {
   "cell_type": "markdown",
   "id": "6a01ad2d-0f2d-470f-b038-e5bc3ce5d119",
   "metadata": {},
   "source": [
    "## Renames the file\n",
    "```\n",
    "$ git mv\n",
    "``` \n",
    "> **Note:**  you will need to `git commit` the rename."
   ]
  },
  {
   "cell_type": "markdown",
   "id": "3475f724-d2df-4d5f-825e-270d3e2305b2",
   "metadata": {},
   "source": [
    "## Remove the file \n",
    "```\n",
    "$ git rm\n",
    "``` \n",
    "> **Note:**  you will need to `git commit` the change."
   ]
  },
  {
   "cell_type": "markdown",
   "id": "3b39cc6a-5f5c-448e-8d3c-9c539c1ebec9",
   "metadata": {},
   "source": [
    "# Practical advice"
   ]
  },
  {
   "cell_type": "markdown",
   "id": "52597f3e-676b-4f04-981b-9c605751cc26",
   "metadata": {},
   "source": [
    "## Writing useful commit messages\n",
    "\n",
    "Using `git log --oneline` we understand that the first line of the commit message is very important.\n",
    "\n",
    "Good example:\n",
    "```text\n",
    "increase threshold alpha to 2.0\n",
    "\n",
    "the motivation for this change is\n",
    "to enable ...\n",
    "...\n",
    "this is based on a discussion in #123\n",
    "```\n",
    "\n",
    "Convention: **one line summarizing the commit, then one empty line,\n",
    "then paragraph(s) with more details in free form, if necessary**.\n",
    "\n",
    "- **Why something was changed is more important than what has changed.**\n",
    "- Cross-reference to issues and discussions if possible/relevant.\n",
    "- Bad commit messages: \"fix\", \"oops\", \"save work\"\n",
    "- Bad examples: [http://whatthecommit.com](http://whatthecommit.com)\n",
    "- Write commit messages in English that will be understood\n",
    "  15 years from now by someone else than you. Or by your future you.\n",
    "- Many projects start out as projects \"just for me\" and end up to be successful projects\n",
    "  that are developed by 50 people over decades.\n",
    "- [Commits with multiple authors](https://help.github.com/articles/creating-a-commit-with-multiple-authors/) are possible.\n",
    "\n",
    "Good references:\n",
    "- [\"How to Write a Git Commit Message\"](https://chris.beams.io/posts/git-commit/)\n",
    "- [\"My favourite Git commit\"](https://fatbusinessman.com/2019/my-favourite-git-commit)\n",
    "- [\"On commit messages\"](https://who-t.blogspot.com/2009/12/on-commit-messages.html)\n",
    "\n",
    "\n",
    "> **_NOTE:_**\n",
    "> A great way to learn how to write commit messages and to get inspired by their  \n",
    "> style choices: **browse repositories of codes that you use/like**:\n",
    "> \n",
    "> Some examples (but there are so many good examples):\n",
    "> - [SciPy](https://github.com/scipy/scipy/commits/main)\n",
    "> - [NumPy](https://github.com/numpy/numpy/commits/main)\n",
    "> - [Pandas](https://github.com/pandas-dev/pandas/commits/main)\n",
    ">\n",
    ">\n",
    "> When designing commit message styles consider also these:\n",
    "> - How will you easily generate a changelog or release notes?\n",
    "> - During code review, you can help each other improving commit messages.\n",
    "\n",
    "  \n",
    "But remember: it is better to make any commit, than no commit. Especially in small projects.  \n",
    "**Let not the perfect be the enemy of the good enough**."
   ]
  },
  {
   "cell_type": "markdown",
   "id": "4778ce45-217a-43f6-ab63-b7da0b20cfe0",
   "metadata": {},
   "source": [
    "# Summary\n",
    "```\n",
    "$ git init    # initialize new repository\n",
    "$ git add     # add new file(s) or stage file(s)\n",
    "$ git commit  # commit staged file(s)\n",
    "$ git status  # see what is going on\n",
    "$ git log     # see history\n",
    "$ git diff    # show unstaged/uncommitted modifications\n",
    "$ git show    # show the change for a specific commit\n",
    "$ git mv      # move tracked files\n",
    "$ git rm      # remove tracked files\n",
    "```"
   ]
  },
  {
   "cell_type": "markdown",
   "id": "8a1f19be-6b3d-4165-8fe7-f930f6900212",
   "metadata": {},
   "source": [
    "---\n",
    "\n",
    "[back <](git-config.ipynb)  [menu](../git-intro.ipynb)  [> next](git-branches.ipynb)  \n",
    "\n",
    "---"
   ]
  }
 ],
 "metadata": {
  "kernelspec": {
   "display_name": "Python 3 (ipykernel)",
   "language": "python",
   "name": "python3"
  },
  "language_info": {
   "codemirror_mode": {
    "name": "ipython",
    "version": 3
   },
   "file_extension": ".py",
   "mimetype": "text/x-python",
   "name": "python",
   "nbconvert_exporter": "python",
   "pygments_lexer": "ipython3",
   "version": "3.11.3"
  }
 },
 "nbformat": 4,
 "nbformat_minor": 5
}
