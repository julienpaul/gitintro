{
 "cells": [
  {
   "cell_type": "markdown",
   "id": "d697d073-1425-4c9c-8f5b-14f6dfa54e1d",
   "metadata": {},
   "source": [
    "# Using the Git staging area"
   ]
  },
  {
   "cell_type": "markdown",
   "id": "4757e8de-5911-4085-8b6a-404a0428f776",
   "metadata": {},
   "source": [
    "## Commit history is telling a story\n",
    "\n",
    "Your *current code* is very important, but the *history* can be just\n",
    "as important - it tells a story about how your code came to be.\n",
    "\n",
    "- Each individual line of code rarely stands alone.\n",
    "- You often want to see all the related changes together.\n",
    "- But you also hardly ever do one thing at once.\n",
    "\n",
    "Along with your code, Git creates a *history* for you, and if your\n",
    "history is clear then you are a long way to organized code."
   ]
  },
  {
   "attachments": {},
   "cell_type": "markdown",
   "id": "86cf02c4-994f-42d0-ae26-b46841d6abad",
   "metadata": {},
   "source": [
    "We want to have nice commits.  But we also want to \"save often\""
   ]
  },
  {
   "cell_type": "markdown",
   "id": "64ac6f7b-ce67-476c-87b9-9ad01121b3b8",
   "metadata": {},
   "source": [
    "## The staging area\n",
    "\n",
    "- The interactive commits above are great, but what if there are so\n",
    "  many changes that you can't sort them out in one shot?\n",
    "- What if you make progress and want to record it somehow, but it's\n",
    "  not ready to be committed?\n",
    "- The **staging area** is a place to record things before committing.\n"
   ]
  },
  {
   "cell_type": "markdown",
   "id": "783f16cc-18c2-431f-a542-e0007338e046",
   "metadata": {},
   "source": [
    "```{discussion}\n",
    "  **Analogy using moving boxes**\n",
    "\n",
    "  - You're moving and you have a box to pack your things in.\n",
    "  - You can put stuff into the box, but you can also take stuff out of the box.\n",
    "  - You wouldn't want to mix items from the bathroom, kitchen, and living room\n",
    "    into the same box.\n",
    "  - The box corresponds to the staging area of Git, where you can craft your commits.\n",
    "  - Committing is like sealing the box and sticking a label on it.\n",
    "  - You wouldn't want to label your box with \"stuff\", but rather give a more\n",
    "    descriptive label.\n",
    "  - See also <https://dev.to/sublimegeek/git-staging-area-explained-like-im-five-1anh>\n",
    "\n",
    "\n",
    "  **Analogy using shopping receipts**\n",
    "\n",
    "  - You need to go shopping and buy some stuff for work and for home.\n",
    "    You need two separate receipts.\n",
    "  - Bad idea: go through the store get home stuff, pay, start at the\n",
    "    beginning and go through the store again.  This is inefficient and\n",
    "    annoying.\n",
    "  - What you actually do:\n",
    "    - Go through the store and put everything you need in your shopping\n",
    "      basket.\n",
    "    - Get to the checkout.  Put your home stuff on the conveyor belt\n",
    "      (`git add`).  Check both the belt (`git diff --staged`) and your\n",
    "      basket (`git diff`) to make sure you got all your home stuff.\n",
    "    - Pay (`git commit`)\n",
    "    - Repeat for work stuff.\n",
    "\n",
    "  In order to keep organized, you have to use multiple locations to\n",
    "  stage things in sequence.\n",
    "```"
   ]
  }
 ],
 "metadata": {
  "kernelspec": {
   "display_name": "Python 3 (ipykernel)",
   "language": "python",
   "name": "python3"
  },
  "language_info": {
   "codemirror_mode": {
    "name": "ipython",
    "version": 3
   },
   "file_extension": ".py",
   "mimetype": "text/x-python",
   "name": "python",
   "nbconvert_exporter": "python",
   "pygments_lexer": "ipython3",
   "version": "3.11.3"
  }
 },
 "nbformat": 4,
 "nbformat_minor": 5
}
