{
 "cells": [
  {
   "cell_type": "markdown",
   "id": "ec0883df-0f1b-4796-8a71-512baeb46e61",
   "metadata": {},
   "source": [
    "# Branching"
   ]
  },
  {
   "cell_type": "markdown",
   "id": "4068e63e-6200-47ad-8ac3-dcefa5a4603b",
   "metadata": {},
   "source": [
    "Up until now our repository had only one branch with one commit coming after the other:  \n",
    "<img src=\"img/git-branch-1.svg\" alt=\"Linear Git repository\" width=\"150\" height=\"100\"/>  \n",
    "\n",
    "- Commits are depicted here as little boxes with abbreviated hashes.\n",
    "- Here the branch `master` points to a commit.\n",
    "- \"HEAD\" is the current position (remember the recording head of tape recorders?).\n",
    "- When we talk about branches, we often mean all parent commits, not only the commit pointed to."
   ]
  },
  {
   "cell_type": "markdown",
   "id": "1e13b104-21d9-4e1c-a08d-5b3fde27254d",
   "metadata": {},
   "source": [
    "Software development is often not linear:\n",
    "\n",
    "- We typically need at least one version of the code to \"work\" (to compile, to give expected results, ...).\n",
    "- At the same time we work on new features, often several features concurrently.\n",
    "  Often they are unfinished.\n",
    "- We need to be able to separate different lines of work really well.\n",
    "\n",
    "The strength of version control is that it permits to **isolate\n",
    "different tracks of work**, which can later be merged to create a composite\n",
    "version that contains all changes:\n",
    "\n",
    "<img src=\"img/git-collaborative.svg\" alt=\"Isolated tracks of work\" width=\"300\" height=\"200\"/>\n",
    "\n",
    "- We see branching points and merging points.\n",
    "- Main line development is often called `master` or `main`.\n",
    "- Other than this convention there is nothing special about `master` or `main`, it is just a branch.\n",
    "- Commits form a directed acyclic graph (we have left out the arrows to avoid confusion about the time arrow).\n",
    "\n",
    "A group of commits that create a single narrative are called a **branch**.\n",
    "There are different branching strategies, but it is useful to think that a branch\n",
    "tells the story of a feature, e.g. \"fast sequence extraction\" or \"Python interface\" or \"fixing bug in\n",
    "matrix inversion algorithm\"."
   ]
  },
  {
   "cell_type": "markdown",
   "id": "3ec268c3-0f6e-4f9a-ad0c-6fb8451d06a3",
   "metadata": {},
   "source": [
    "### An alias\n",
    "\n",
    "We will now define an alias in Git, to be able to nicely visualize branch structure in the terminal without having to remember a long Git command"
   ]
  },
  {
   "cell_type": "code",
   "execution_count": null,
   "id": "7007c98e-f547-42ee-87e0-df18f4152d37",
   "metadata": {},
   "outputs": [],
   "source": [
    "%%bash\n",
    "git config --global alias.graph \"log --all --graph --decorate --oneline\""
   ]
  },
  {
   "cell_type": "markdown",
   "id": "3499e84f-3b27-457c-94ac-85d725bdd5fe",
   "metadata": {},
   "source": [
    "## On which branch are we?\n",
    "\n",
    "To see where we are (where HEAD points to) use `git branch`:"
   ]
  },
  {
   "cell_type": "code",
   "execution_count": null,
   "id": "e1120967-05bc-447f-bb65-3d932401f309",
   "metadata": {},
   "outputs": [],
   "source": [
    "%cd recipe"
   ]
  },
  {
   "cell_type": "code",
   "execution_count": null,
   "id": "0f13540f-6c33-4f1f-bfe8-65b0b04f1e8b",
   "metadata": {},
   "outputs": [],
   "source": [
    "%%bash\n",
    "git branch"
   ]
  },
  {
   "cell_type": "markdown",
   "id": "12ed9422-4a1d-44ef-b7c4-cfe4d47aae30",
   "metadata": {},
   "source": [
    "- This command shows where we are, it does not create a branch.\n",
    "- There is only `main` and we are on `main` (star represents the `HEAD`).\n",
    "\n",
    "In the following we will learn how to create branches,\n",
    "how to switch between them, how to merge branches,\n",
    "and how to remove them afterwards."
   ]
  },
  {
   "cell_type": "markdown",
   "id": "32775486-b724-49b3-b441-7bc89be5b9f7",
   "metadata": {},
   "source": [
    "## Creating and working with branches"
   ]
  },
  {
   "cell_type": "markdown",
   "id": "1691ede3-ff6b-4a12-955d-b3982130a552",
   "metadata": {},
   "source": [
    "### create a first branch"
   ]
  },
  {
   "cell_type": "markdown",
   "id": "4d92a31e-622c-4ba7-809c-d9779cafee1f",
   "metadata": {},
   "source": [
    "Let's create a branch called `experiment` where we add cilantro to `ingredients.txt`."
   ]
  },
  {
   "cell_type": "code",
   "execution_count": null,
   "id": "2868b961-159c-46f6-a972-23a204615c6c",
   "metadata": {},
   "outputs": [],
   "source": [
    "%%bash\n",
    "git branch experiment main     # creates branch \"experiment\" from main\n",
    "git checkout experiment        # switch to branch \"experiment\"                  "
   ]
  },
  {
   "cell_type": "markdown",
   "id": "031eb4b4-0ef1-4347-8f96-fe7b8664010b",
   "metadata": {},
   "source": [
    "- Verify that you are on the `experiment` branch"
   ]
  },
  {
   "cell_type": "code",
   "execution_count": null,
   "id": "faae3e55-228a-479f-973a-89cb8ea78fd5",
   "metadata": {},
   "outputs": [],
   "source": [
    "%%bash\n",
    "git branch                   # list all local branches and show on which branch we are"
   ]
  },
  {
   "cell_type": "markdown",
   "id": "870f2341-c2a3-4721-95ff-c0f7acf0a191",
   "metadata": {},
   "source": [
    "- Then add 2 tbsp cilantro **on top** of the `ingredients.txt`:"
   ]
  },
  {
   "cell_type": "code",
   "execution_count": null,
   "id": "5e22bfae-4c5b-4246-8a04-f87acb610063",
   "metadata": {},
   "outputs": [],
   "source": [
    "%%writefile ingredients.txt\n",
    "\n",
    "* 2 tbsp cilantro\n",
    "* 2 avocados\n",
    "* 1 lime\n",
    "* 2 tsp salt\n",
    "* 1/2 onion"
   ]
  },
  {
   "cell_type": "markdown",
   "id": "ea8d5a0a-38d9-4d41-a57a-1fe3981fa95b",
   "metadata": {},
   "source": [
    "- Stage this and commit it"
   ]
  },
  {
   "cell_type": "code",
   "execution_count": null,
   "id": "b4c0eb08-7312-43e5-beb1-2c245edd58a0",
   "metadata": {},
   "outputs": [],
   "source": [
    "%%bash\n",
    "git add .\n",
    "git commit -m \"let us try with some cilantro\""
   ]
  },
  {
   "cell_type": "markdown",
   "id": "13efafdf-d06f-455d-bc9d-830afe634916",
   "metadata": {},
   "source": [
    "- Then reduce the amount of cilantro to 1 tbsp, stage and commit again"
   ]
  },
  {
   "cell_type": "code",
   "execution_count": null,
   "id": "543e39ac-9dd0-4cd7-8a6a-05ecef647924",
   "metadata": {},
   "outputs": [],
   "source": [
    "%%writefile ingredients.txt\n",
    "\n",
    "* 1 tbsp cilantro\n",
    "* 2 avocados\n",
    "* 1 lime\n",
    "* 2 tsp salt\n",
    "* 1/2 onion"
   ]
  },
  {
   "cell_type": "code",
   "execution_count": null,
   "id": "43c73678-4caa-44e4-befe-d972ebfbc8ad",
   "metadata": {},
   "outputs": [],
   "source": [
    "%%bash\n",
    "git add .\n",
    "git commit -m \"maybe little bit less cilantro\""
   ]
  },
  {
   "cell_type": "code",
   "execution_count": null,
   "id": "e7ffdad5-b298-4e4d-be13-ced579ed46fb",
   "metadata": {
    "scrolled": true
   },
   "outputs": [],
   "source": [
    "%%bash\n",
    "git graph"
   ]
  },
  {
   "cell_type": "markdown",
   "id": "e891d474-72e0-4143-9e7b-af18e361f779",
   "metadata": {},
   "source": [
    "- The branch `experiment` is two commits ahead of `main`.\n",
    "- We commit our changes to this branch."
   ]
  },
  {
   "cell_type": "markdown",
   "id": "b60147af-677a-4484-b396-5ee45e14d889",
   "metadata": {},
   "source": [
    "### create a second branch"
   ]
  },
  {
   "cell_type": "markdown",
   "id": "a3a965c9-a9c4-4a6a-94de-953e2b174672",
   "metadata": {},
   "source": [
    "Let's create a branch called `less-salt` where we reduce the amount of salt in `ingredients.txt`.  \n",
    "\n",
    "> **Warning:**  makes sure you are on main branch when you create the less-salt branch"
   ]
  },
  {
   "cell_type": "code",
   "execution_count": null,
   "id": "905c969b-f3c7-4c20-b38e-01b71ed73231",
   "metadata": {},
   "outputs": [],
   "source": [
    "%%bash\n",
    "git checkout main\n",
    "git branch less-salt main\n",
    "\n",
    "git checkout less-salt"
   ]
  },
  {
   "cell_type": "code",
   "execution_count": null,
   "id": "8fd5393a-f0f8-460e-8461-9236da51cf29",
   "metadata": {},
   "outputs": [],
   "source": [
    "%%writefile ingredients.txt\n",
    "\n",
    "* 2 avocados\n",
    "* 1 lime\n",
    "* 1 tsp salt\n",
    "* 1/2 onion"
   ]
  },
  {
   "cell_type": "code",
   "execution_count": null,
   "id": "b4449849-9697-4072-9728-78444985a55b",
   "metadata": {},
   "outputs": [],
   "source": [
    "%%bash\n",
    "git add ingredients.txt\n",
    "git commit -m \"reduce amount of salt\""
   ]
  },
  {
   "cell_type": "code",
   "execution_count": null,
   "id": "60f62746-08f3-4062-8625-1751867dc75c",
   "metadata": {},
   "outputs": [],
   "source": [
    "%%bash\n",
    "git graph"
   ]
  },
  {
   "cell_type": "markdown",
   "id": "10cce5d0-15bc-47c7-93c6-0bf8ee78633f",
   "metadata": {},
   "source": [
    "\n",
    "Here is a graphical representation of what we have created:  \n",
    "  \n",
    "<img src=\"img/git-branch-2.svg\" alt=\"Isolated tracks of work\" width=\"300\" height=\"200\"/>"
   ]
  },
  {
   "cell_type": "markdown",
   "id": "0a54c579-b5fa-4f2b-9cc7-68b49be2a0e3",
   "metadata": {},
   "source": [
    "- Now switch to `main`.\n",
    "- Add and commit the following `README.md` to `main`:\n"
   ]
  },
  {
   "cell_type": "code",
   "execution_count": null,
   "id": "e37efdcb-71cd-4f7d-9a9d-edaa734bfb8d",
   "metadata": {},
   "outputs": [],
   "source": [
    "%%bash\n",
    "git checkout main"
   ]
  },
  {
   "cell_type": "code",
   "execution_count": null,
   "id": "a898a1a9-1162-4b05-b76a-996e8dbb35f4",
   "metadata": {},
   "outputs": [],
   "source": [
    "%%writefile README.md\n",
    "\n",
    "# Guacamole recipe\n",
    "\n",
    "Used in teaching Git."
   ]
  },
  {
   "cell_type": "code",
   "execution_count": null,
   "id": "537966a1-f99f-412b-8f30-80c747b98df4",
   "metadata": {},
   "outputs": [],
   "source": [
    "%%bash\n",
    "git add README.md\n",
    "git commit -m \"draft a readme\""
   ]
  },
  {
   "cell_type": "code",
   "execution_count": null,
   "id": "041df079-f5e9-4b0d-814c-c0b586624c10",
   "metadata": {
    "scrolled": true
   },
   "outputs": [],
   "source": [
    "%%bash\n",
    "git graph"
   ]
  },
  {
   "cell_type": "markdown",
   "id": "472459b8-f754-43f6-a52f-477f2d750126",
   "metadata": {},
   "source": [
    "Here is a graphical representation of what we have created:  \n",
    "  \n",
    "<img src=\"img/git-branch-3.svg\" alt=\"\" width=\"300\" height=\"200\"/>"
   ]
  },
  {
   "cell_type": "markdown",
   "id": "69410bca-8917-42a2-b24e-368b10352fc3",
   "metadata": {},
   "source": [
    "# Merging branches"
   ]
  },
  {
   "cell_type": "markdown",
   "id": "06c05b0e-8b12-4873-81d3-b5e9cac45d5a",
   "metadata": {},
   "source": [
    "## Merging branch `experiment`"
   ]
  },
  {
   "cell_type": "markdown",
   "id": "a1e6ec0a-3920-4654-a970-d37997fb1321",
   "metadata": {},
   "source": [
    "It turned out that our experiment with cilantro was a good idea.\n",
    "Our goal now is to merge `experiment` into `main`."
   ]
  },
  {
   "cell_type": "markdown",
   "id": "f17fe4ca-0544-454a-a18a-ee932161895a",
   "metadata": {},
   "source": [
    "First we make sure we are on the branch we wish to merge into:"
   ]
  },
  {
   "cell_type": "code",
   "execution_count": null,
   "id": "e2429106-6c61-498e-8f29-599991e20a05",
   "metadata": {
    "scrolled": true
   },
   "outputs": [],
   "source": [
    "%%bash\n",
    "git branch"
   ]
  },
  {
   "cell_type": "markdown",
   "id": "4526d0de-446e-446f-a590-73975f9ad9e6",
   "metadata": {},
   "source": [
    "Then we merge `experiment` into `main`:"
   ]
  },
  {
   "cell_type": "code",
   "execution_count": null,
   "id": "dff027a0-c9b4-489d-86ce-88bb98660cc9",
   "metadata": {},
   "outputs": [],
   "source": [
    "%%bash\n",
    "git merge experiment"
   ]
  },
  {
   "cell_type": "markdown",
   "id": "0cc68807-6b68-45cd-994c-1eef6a3e830c",
   "metadata": {},
   "source": [
    "<img src=\"img/git-merge-1.svg\" alt=\"\" width=\"300\" height=\"200\"/>"
   ]
  },
  {
   "cell_type": "markdown",
   "id": "3716e781-1ee9-453f-8222-4a8f419f4752",
   "metadata": {},
   "source": [
    "We can verify the result in the terminal:"
   ]
  },
  {
   "cell_type": "code",
   "execution_count": null,
   "id": "85831d6b-e9d6-49ca-bda1-e3bbfd5b5338",
   "metadata": {
    "scrolled": true
   },
   "outputs": [],
   "source": [
    "%%bash\n",
    "git graph"
   ]
  },
  {
   "cell_type": "markdown",
   "id": "464cff8c-60a5-4f61-afa0-666eb69d2cf2",
   "metadata": {},
   "source": [
    "What happens internally when you merge two branches is that Git creates a new\n",
    "commit, attempts to incorporate changes from both branches and records the\n",
    "state of all files in the new commit. While a regular commit has one parent, a\n",
    "merge commit has two (or more) parents."
   ]
  },
  {
   "cell_type": "markdown",
   "id": "6003e225-efab-49b1-a733-0d0d52ef72c3",
   "metadata": {},
   "source": [
    "To view the branches that are merged into the current branch we can use the command:"
   ]
  },
  {
   "cell_type": "code",
   "execution_count": null,
   "id": "d5815ffa-0661-4e02-beb6-b84a6b20a613",
   "metadata": {},
   "outputs": [],
   "source": [
    "%%bash\n",
    "git branch --merged"
   ]
  },
  {
   "cell_type": "markdown",
   "id": "9816eae4-5342-46cf-acc6-7ab1f4f532b8",
   "metadata": {},
   "source": [
    "## Merging branch `less-salt`"
   ]
  },
  {
   "cell_type": "markdown",
   "id": "adf16dd6-3c82-4fd8-bfdb-eb6c84811979",
   "metadata": {},
   "source": [
    "We are also happy with the work on the `less-salt` branch. Let us merge that\n",
    "one, too, into `main`:"
   ]
  },
  {
   "cell_type": "markdown",
   "id": "4703cdd3-48cb-4ffb-b1ef-f833a776dece",
   "metadata": {},
   "source": [
    "First we make sure we are on the branch we wish to merge into:"
   ]
  },
  {
   "cell_type": "code",
   "execution_count": null,
   "id": "66e194e0-2523-4780-89da-8085b273d68a",
   "metadata": {},
   "outputs": [],
   "source": [
    "%%bash\n",
    "git branch  # make sure you are on master"
   ]
  },
  {
   "cell_type": "markdown",
   "id": "9ad40eb0-5011-4542-830e-1097a06d2a01",
   "metadata": {},
   "source": [
    "Then we merge `less-salt` into `main`:"
   ]
  },
  {
   "cell_type": "code",
   "execution_count": null,
   "id": "492eb497-520e-454e-b51d-99133240289f",
   "metadata": {},
   "outputs": [],
   "source": [
    "%%bash\n",
    "git merge less-salt"
   ]
  },
  {
   "cell_type": "markdown",
   "id": "d5f7c747-483a-43fb-b742-5091e12b3a01",
   "metadata": {},
   "source": [
    "<img src=\"img/git-merge-2.svg\" alt=\"\" width=\"300\" height=\"200\"/>"
   ]
  },
  {
   "cell_type": "markdown",
   "id": "e55f24c6-e8f5-4b6d-a991-245f28b2222e",
   "metadata": {},
   "source": [
    "We can verify the result in the terminal:"
   ]
  },
  {
   "cell_type": "code",
   "execution_count": null,
   "id": "dc146bff-7a12-42a1-91da-e02094e37934",
   "metadata": {},
   "outputs": [],
   "source": [
    "%%bash\n",
    "git graph"
   ]
  },
  {
   "cell_type": "markdown",
   "id": "5efaa457-bdf4-4c2b-b4b1-63643d688645",
   "metadata": {},
   "source": [
    "Observe how Git nicely merged the changed amount of salt and the new ingredient **in the same file\n",
    "without us merging it manually**:"
   ]
  },
  {
   "cell_type": "code",
   "execution_count": null,
   "id": "ee46ed42-9bb2-42b0-856b-735bdbe3b27c",
   "metadata": {},
   "outputs": [],
   "source": [
    "%%bash\n",
    "cat ingredients.txt"
   ]
  },
  {
   "cell_type": "markdown",
   "id": "8a7758e9-369f-45e0-870e-8b84d979958c",
   "metadata": {},
   "source": [
    "If the same file is changed in both branches, Git attempts to incorporate both\n",
    "changes into the merged file. If the changes overlap then the user has to\n",
    "manually *settle merge conflicts* (we will do that later)."
   ]
  },
  {
   "cell_type": "markdown",
   "id": "6304d317-d32b-4be7-ad41-8928c121b5a2",
   "metadata": {},
   "source": [
    "# Deleting branches safely"
   ]
  },
  {
   "cell_type": "markdown",
   "id": "4b2e5026-cf08-4348-8f5d-0c62de6ee92d",
   "metadata": {},
   "source": [
    "Both feature branches are merged:"
   ]
  },
  {
   "cell_type": "code",
   "execution_count": null,
   "id": "a91cfb9c-0619-402a-9eb0-adab2e5218e5",
   "metadata": {},
   "outputs": [],
   "source": [
    "%%bash\n",
    "git branch --merged"
   ]
  },
  {
   "cell_type": "markdown",
   "id": "7b772155-df2b-4d36-a457-a98b9031cf90",
   "metadata": {},
   "source": [
    "This means we can delete the branches:"
   ]
  },
  {
   "cell_type": "code",
   "execution_count": null,
   "id": "7ac8498c-884d-4fbc-a326-aa416dafbef1",
   "metadata": {},
   "outputs": [],
   "source": [
    "%%bash\n",
    "git branch -d experiment less-salt"
   ]
  },
  {
   "cell_type": "markdown",
   "id": "5c7e9149-6c9a-4998-968b-9f5cd933cc66",
   "metadata": {},
   "source": [
    "This is the result:  \n",
    "\n",
    "<img src=\"img/git-deleted-branches.svg\" alt=\"\" width=\"300\" height=\"200\"/>"
   ]
  },
  {
   "cell_type": "markdown",
   "id": "f7b36684-a82c-4438-9cc8-36f913781a62",
   "metadata": {},
   "source": [
    "Compare in the terminal:"
   ]
  },
  {
   "cell_type": "code",
   "execution_count": null,
   "id": "cb0e05ff-efff-47b6-8cd1-f1565fa5cda3",
   "metadata": {
    "scrolled": true
   },
   "outputs": [],
   "source": [
    "%%bash\n",
    "git graph"
   ]
  },
  {
   "cell_type": "markdown",
   "id": "412267ae-5f8e-4aca-85f8-2ba7bd4bbd55",
   "metadata": {},
   "source": [
    "Comparing figures \"Commit graph after merge\"\n",
    "and \"Commit graph after merged branches were deleted\",\n",
    "we observe that\n",
    "only the pointers (\"sticky notes\") disappeared, not the commits."
   ]
  },
  {
   "cell_type": "markdown",
   "id": "bbf25789-ba7b-48b6-9fbf-20a4a655888a",
   "metadata": {},
   "source": [
    "> **Note:**  Git will not let you delete a branch which has not been reintegrated unless you\n",
    "insist using `git branch -D`. Even then your commits will not be lost but you\n",
    "may have a hard time finding them as there is no branch pointing to them."
   ]
  },
  {
   "cell_type": "markdown",
   "id": "cf618182-3340-4abb-b848-1e04048ca30d",
   "metadata": {},
   "source": [
    "# Tags"
   ]
  },
  {
   "cell_type": "markdown",
   "id": "f28941a5-ea09-4b5b-89ce-a9315984dc12",
   "metadata": {},
   "source": [
    "- A tag is a pointer to a commit but in contrast to a branch it **does not ever move**.\n",
    "- We use tags to record particular states or milestones of a project at a given\n",
    "  point in time, like for instance versions (have a look at [semantic versioning](http://semver.org),\n",
    "  v1.0.3 is easier to understand and remember than 64441c1934def7d91ff0b66af0795749d5f1954a).\n",
    "\n",
    "\n",
    "- It can be useful to think of branches as sticky notes and of tags as\n",
    "  [commemorative plaques](https://en.wikipedia.org/wiki/Commemorative_plaque).\n",
    "\n",
    "Let's add an annotated tag to our current state of the guacamole recipe:"
   ]
  },
  {
   "cell_type": "code",
   "execution_count": null,
   "id": "f567062a-4af6-4555-a088-5c6774e91459",
   "metadata": {},
   "outputs": [],
   "source": [
    "%%bash\n",
    "git tag -a nobel-2021 -m \"recipe I made for the 2021 Nobel banquet\""
   ]
  },
  {
   "cell_type": "markdown",
   "id": "387ba516-0074-4401-8c8a-f1b5ba4000f7",
   "metadata": {},
   "source": [
    "To see tags list:"
   ]
  },
  {
   "cell_type": "code",
   "execution_count": null,
   "id": "b77881b9-95ff-4c2c-9d17-1bcd9a5e9e86",
   "metadata": {},
   "outputs": [],
   "source": [
    "%%bash\n",
    "git tag"
   ]
  },
  {
   "cell_type": "markdown",
   "id": "5870807b-4b10-40f7-b447-34d52fa93f95",
   "metadata": {},
   "source": [
    "# Practical advice"
   ]
  },
  {
   "cell_type": "markdown",
   "id": "b65ad191-d6da-45d4-8d21-c20bd4fa8bcb",
   "metadata": {},
   "source": [
    "## What level of branching complexity is necessary for each project?\n",
    "\n",
    "\n",
    "### Simple personal projects\n",
    "\n",
    "- Typically start with just the `main` branch.\n",
    "- Use branches for unfinished/untested ideas.\n",
    "- Use branches when you are not sure about a change.\n",
    "- Use tags to mark important milestones.\n",
    "\n",
    "\n",
    "### Projects with few persons: you accept things breaking sometimes\n",
    "\n",
    "- It might be reasonable to commit to the `main` branch and feature branches.\n",
    "\n",
    "\n",
    "### Projects with few persons: changes are reviewed by others\n",
    "\n",
    "- The `main` branch is write-protected.\n",
    "- You create new feature branches for changes.\n",
    "- Changes are reviewed before they are merged to the `main` branch\n",
    "  (more about that in the [collaborative Git lesson](https://coderefinery.github.io/git-collaborative/)).\n",
    "\n",
    "\n",
    "### When you distribute releases\n",
    "\n",
    "- If you want to patch releases, you probably need release branches.\n",
    "- The `main` branch and release branches are read-only.\n",
    "- Many [branching models](https://coderefinery.github.io/git-branch-design/05-branching-models/) exist."
   ]
  },
  {
   "cell_type": "markdown",
   "id": "a73c2998-ce7e-4d70-9ce2-403c91ee2654",
   "metadata": {},
   "source": [
    "# Summary\n",
    "\n",
    "```console\n",
    "$ git branch               # see where we are\n",
    "$ git branch <name> <src>  # create branch <name> from the branch <src>\n",
    "$ git branch <name>        # create branch <name> from the current one\n",
    "$ git checkout <name>      # switch to branch <name>\n",
    "$ git merge <name>         # merge branch <name> (to current branch)\n",
    "$ git branch -d <name>     # delete branch <name>\n",
    "$ git branch -D <name>     # delete unmerged branch\n",
    "```\n",
    "\n",
    "Since the following command combo is so frequent:\n",
    "\n",
    "```console\n",
    "$ git branch <name>        # create branch <name>\n",
    "$ git checkout <name>      # switch to branch <name>\n",
    "```\n",
    "\n",
    "There is a shortcut for it:\n",
    "\n",
    "```console\n",
    "$ git checkout -b <name>   # create branch <name> and switch to it\n",
    "```"
   ]
  },
  {
   "cell_type": "markdown",
   "id": "cbba61e1-ab3b-44a1-b0b3-9783c8115f39",
   "metadata": {},
   "source": [
    "---\n",
    "\n",
    "[back <](git-basics.ipynb)  [menu](../git-intro.ipynb)  [> next](git-conflict.ipynb)  \n",
    "\n",
    "---"
   ]
  }
 ],
 "metadata": {
  "kernelspec": {
   "display_name": "Python 3 (ipykernel)",
   "language": "python",
   "name": "python3"
  },
  "language_info": {
   "codemirror_mode": {
    "name": "ipython",
    "version": 3
   },
   "file_extension": ".py",
   "mimetype": "text/x-python",
   "name": "python",
   "nbconvert_exporter": "python",
   "pygments_lexer": "ipython3",
   "version": "3.11.3"
  }
 },
 "nbformat": 4,
 "nbformat_minor": 5
}
