{
 "cells": [
  {
   "cell_type": "markdown",
   "id": "941e9cb1-b0d5-42ab-a177-00fe8f1ede83",
   "metadata": {},
   "source": [
    "# Motivation"
   ]
  },
  {
   "cell_type": "code",
   "execution_count": null,
   "id": "adb6114e-61b8-4c51-b1a8-62ab263bfc1b",
   "metadata": {
    "scrolled": true
   },
   "outputs": [],
   "source": [
    "from IPython.display import YouTubeVideo\n",
    "\n",
    "YouTubeVideo('CvbLVVRzJF8', width=800, height=300)"
   ]
  },
  {
   "cell_type": "markdown",
   "id": "b53a6afc-69c5-4503-a202-0c7f7e89c01b",
   "metadata": {
    "jp-MarkdownHeadingCollapsed": true
   },
   "source": [
    "## The essence of version control\n",
    "\n",
    "- System which **records snapshots** of a project\n",
    "- Implements **branching**:\n",
    "  - You can work on several feature branches and switch between them\n",
    "  - Different people can work on the same code/project without interfering\n",
    "  - You can experiment with an idea and discard it if it turns out to be a bad idea\n",
    "- Implements **merging**:\n",
    "  - Person A and B's simultaneous work can be easily combined"
   ]
  },
  {
   "cell_type": "markdown",
   "id": "f5b044f2-945e-4ab4-84b5-14b2f3c37ba2",
   "metadata": {
    "jp-MarkdownHeadingCollapsed": true
   },
   "source": [
    "## Why version control\n",
    "\n",
    "### Roll-back functionality\n",
    "\n",
    "- Mistakes happen - without recorded snapshots you cannot easily undo mistakes and **go back to a working version**.\n",
    "\n",
    "\n",
    "### Branching\n",
    "\n",
    "- Often you need to work on **several issues/features in one code** - without branching this can be messy and confusing.\n",
    "- You can simulate branching by copying the entire code to multiple places but also this will be messy and confusing.\n",
    "\n",
    "\n",
    "### Collaboration\n",
    "\n",
    "With version control, none of these are needed anymore (or have much simpler answers):\n",
    "\n",
    "- *\"I will just finish my work and then you can start with your changes.\"*\n",
    "- *\"Can you please send me the latest version?\"*\n",
    "- *\"You never got the code I send by email? Maybe the spam filter marked it as malicious?\"*\n",
    "- *\"Where is the latest version?\"*\n",
    "- *\"Which version are you using?\"*\n",
    "- *\"Which version have the authors used in the paper I am trying to reproduce?\"*\n",
    "\n",
    "\n",
    "### Reproducibility\n",
    "\n",
    "- How do you indicate which version of your code you have used in your paper?\n",
    "- When you find a bug, how do you know **when precisely** this bug was introduced\n",
    "  (Are published results affected? Do you need to inform collaborators or users of your code?)."
   ]
  },
  {
   "cell_type": "markdown",
   "id": "f0b99b03-a66c-4a9e-9d1e-ff711d0f339f",
   "metadata": {},
   "source": [
    "# What is Git, and what is a Git repository?"
   ]
  },
  {
   "cell_type": "markdown",
   "id": "65104eee-d6a4-4325-ae38-b5d9b97abf9c",
   "metadata": {
    "jp-MarkdownHeadingCollapsed": true
   },
   "source": [
    "- Git is a version control system: can **record/save snapshots** and track the content of a folder as it changes over time.\n",
    "- Every time we **commit** a snapshot, Git records a snapshot of the **entire project**, saves it, and assigns it a version.\n",
    "  \n",
    "- These snapshots are kept inside a sub-folder called `.git`.\n",
    "    - If we remove `.git`, we remove the repository and history (but keep the working directory!).\n",
    "    - `.git` uses relative paths - you can move the whole thing somewhere else and it will still work  \n",
    "\n",
    "  "
   ]
  },
  {
   "cell_type": "markdown",
   "id": "f9c88ff9-f6a3-4e37-ac3f-59919d41bec4",
   "metadata": {
    "jp-MarkdownHeadingCollapsed": true
   },
   "source": [
    "- Git doesn't do anything unless you ask it to (it does not record anything automatically).\n",
    "  "
   ]
  },
  {
   "cell_type": "markdown",
   "id": "c138544e-2173-4758-8a87-a71f37ff4d45",
   "metadata": {},
   "source": [
    "## Recording a snapshot with Git"
   ]
  },
  {
   "cell_type": "markdown",
   "id": "db9dc656-8a94-4049-b21f-42b606b3672d",
   "metadata": {
    "jp-MarkdownHeadingCollapsed": true
   },
   "source": [
    "- Git takes snapshots only if we request it.\n",
    "- We will record changes always in two steps.\n",
    "\n",
    "- We first focus (`git add`, we \"stage\" the change), then shoot (`git commit`):\n",
    "\n",
    "<img src=\"img/git_stage_commit.svg\" alt=\"\" width=\"800\" height=\"300\"/>\n"
   ]
  },
  {
   "cell_type": "markdown",
   "id": "4a412acf-84d4-4d86-b4d4-2812abef5b5a",
   "metadata": {},
   "source": [
    "---\n",
    "\n",
    "back <  [menu](../git-intro.ipynb)  [> next](git-config.ipynb)  \n",
    "\n",
    "---"
   ]
  }
 ],
 "metadata": {
  "kernelspec": {
   "display_name": "Python 3 (ipykernel)",
   "language": "python",
   "name": "python3"
  },
  "language_info": {
   "codemirror_mode": {
    "name": "ipython",
    "version": 3
   },
   "file_extension": ".py",
   "mimetype": "text/x-python",
   "name": "python",
   "nbconvert_exporter": "python",
   "pygments_lexer": "ipython3",
   "version": "3.11.3"
  }
 },
 "nbformat": 4,
 "nbformat_minor": 5
}
