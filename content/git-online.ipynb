{
 "cells": [
  {
   "cell_type": "markdown",
   "id": "7e589d8d-7afe-4fac-96a3-87d5b7132168",
   "metadata": {},
   "source": [
    "# Sharing repositories online"
   ]
  },
  {
   "cell_type": "markdown",
   "id": "8b6337a1-db93-4f1f-8920-9c8bca687c93",
   "metadata": {},
   "source": [
    "## From our laptops to the web\n",
    "\n",
    "We have seen that **creating Git repositories and moving them around is\n",
    "simple** and that is great.\n",
    "\n",
    "So far everything was local and all snapshots, branches, and tags are saved under `.git`.\n",
    "\n",
    "If we remove `.git`, we remove all Git history of a project."
   ]
  },
  {
   "cell_type": "markdown",
   "id": "70f09657-1e75-4e0f-8a78-96f018cf0452",
   "metadata": {},
   "source": [
    "## Remotes\n",
    "\n",
    "To store your git data on another server, you use **remotes**.\n",
    "A remote is a repository on its own, with its own branches\n",
    "We can **push** changes to the remote and **pull**\n",
    "from the remote.\n",
    "\n",
    "You might use remotes to:\n",
    "- Back up your own work.\n",
    "- To collaborate with other people.\n",
    "\n",
    "There are different types of remotes:\n",
    "- If you have a server you can ssh to, you can use that as a remote.\n",
    "- [GitHub](https://github.com) is a popular, closed-source commercial site.\n",
    "- [GitLab](https://about.gitlab.com) is a popular, open-core\n",
    "  commercial site.  Many universities have their own private GitLab servers\n",
    "  set up.\n",
    "- [Bitbucket](https://bitbucket.org) is yet another popular commercial site.\n",
    "- ...\n",
    "\n",
    "University of Montpellier and CNRS have their own Gitlab servers:\n",
    "- [UMontpellier](https://gitlab.etu.umontpellier.fr/)\n",
    "- [CNRS koda ](https://src.koda.cnrs.fr/)\n",
    "- [CNRS in2p3](https://gitlab.in2p3.fr/)\n",
    "\n",
    "See Koda [documentation](https://src.koda.cnrs.fr/koda-labo/documentation) and [Gitlab overview](https://src.koda.cnrs.fr/koda-labo/documentation/-/wikis/Tour%20d'horizon%20de%20Gitlab).  "
   ]
  },
  {
   "cell_type": "markdown",
   "id": "440968d9-435a-4754-8278-e5bd4a456667",
   "metadata": {},
   "source": [
    "## Create a new repository on Gitlab"
   ]
  },
  {
   "cell_type": "markdown",
   "id": "17d784c8-659e-485e-8186-fa88191da908",
   "metadata": {},
   "source": [
    "For the rest of this page, we will make a new repository for our guacamole recipe on Gitlab, send our code to it, and then see how others can get the code from it."
   ]
  },
  {
   "cell_type": "markdown",
   "id": "907a5594-6f95-4390-b8e8-f428cf37f4c1",
   "metadata": {},
   "source": [
    "# SSH connection to Gitlab\n",
    "\n",
    "Using the SSH protocol, you can connect and authenticate to remote servers and\n",
    "services. With Git, it allows you to connect to remote servers to push\n",
    "and pull code.  With SSH keys, you can connect to GitHub without supplying your\n",
    "username or password at each visit.\n"
   ]
  },
  {
   "cell_type": "markdown",
   "id": "a36870b5-13e4-4570-aea7-633852ca2b89",
   "metadata": {},
   "source": [
    "## Adding the SSH key to the ssh-agent\n",
    "\n",
    "If you need to generate an SSh key, see [here](https://docs.gitlab.com/ee/user/ssh.html#generate-an-ssh-key-pair)\n",
    "\n",
    "On the Gitlab page, edit your profile  \n",
    "<img src=\"img/gitlab-edit-profile.png\" alt=\"\" width=\"800\" height=\"300\"/>\n",
    "  \n",
    "Select the SSH key  \n",
    "<img src=\"img/gitlab-ssh-keys.png\" alt=\"\" width=\"800\" height=\"300\"/>\n",
    "  \n",
    "And copy/paste your public ssh key  \n",
    "<img src=\"img/gitlab-ssh-keys2.png\" alt=\"\" width=\"800\" height=\"300\"/>"
   ]
  },
  {
   "cell_type": "markdown",
   "id": "171a1b68-e12d-4ea6-a2f9-2fe607c3d595",
   "metadata": {},
   "source": [
    "Make sure that you are **logged into Gitlab**."
   ]
  },
  {
   "cell_type": "markdown",
   "id": "2bd77aa2-0807-4611-ad6f-57bab062f7d7",
   "metadata": {},
   "source": [
    "> **Note:** Create group (and sub-group) to organize several dependent projects under the same namespace."
   ]
  },
  {
   "cell_type": "markdown",
   "id": "b0188c06-b32c-4f74-9cfc-6bdf769d2504",
   "metadata": {},
   "source": [
    "To create a repository we either click the box \"Create a project\"  \n",
    "  \n",
    "<img src=\"img/gitlab-new.png\" alt=\"\" width=\"800\" height=\"300\"/>"
   ]
  },
  {
   "cell_type": "markdown",
   "id": "446eb2e2-85b6-4656-b489-b6307093ed60",
   "metadata": {},
   "source": [
    "Or if you see your profile page, there is a \"+\" menu (top right corner).  \n",
    "  \n",
    "<img src=\"img/gitlab-new2.png\" alt=\"\" width=\"800\" height=\"300\"/>"
   ]
  },
  {
   "cell_type": "markdown",
   "id": "8f4ff930-f9c6-42a1-b878-deef56b3c938",
   "metadata": {},
   "source": [
    "On this page choose \"Create blank project\":  \n",
    "  \n",
    "<img src=\"img/gitlab-blank.png\" alt=\"\" width=\"800\" height=\"300\"/>"
   ]
  },
  {
   "cell_type": "markdown",
   "id": "9aa7ad2e-dd44-424f-ae07-a6a4b063c237",
   "metadata": {},
   "source": [
    "On the next page choose a project name. For the sake of this exercise **do not select** “Initialize this repository with a README”:  \n",
    "  \n",
    "<img src=\"img/gitlab-blank2.png\" alt=\"\" width=\"800\" height=\"300\"/>"
   ]
  },
  {
   "cell_type": "markdown",
   "id": "e8e502f7-981f-4fc6-adbd-239f58a7ed63",
   "metadata": {},
   "source": [
    "> **Note:**\n",
    "> - Private : Project access must be granted explicitly to each user. If this project is part of a group, access is granted to members of the group.\n",
    "> - Internal : The project can be accessed by any logged in user except external users.\n",
    "> - Public : The project can be accessed without any authentication."
   ]
  },
  {
   "cell_type": "markdown",
   "id": "ee4cebb1-88bf-411d-a608-f97063fda5ba",
   "metadata": {},
   "source": [
    "Once you click the green \"Create project\", you will see a page similar to:  \n",
    "  \n",
    "<img src=\"img/gitlab-recipe-ssh.png\" alt=\"\" width=\"800\" height=\"300\"/>"
   ]
  },
  {
   "cell_type": "markdown",
   "id": "d4522ca7-101e-494d-b684-99adc3018a13",
   "metadata": {},
   "source": [
    "## Pushing our guacamole recipe repository to Gitlab\n",
    "\n",
    "We now want to try the last option that Gitlab suggests:\n",
    "\n",
    "> **... Push an existing Git repository**\n",
    "\n",
    "1. Now go to your guacamole repository on your computer.\n",
    "2. Check that you are in the right place with `git status`.\n",
    "3. Copy paste the three lines to the terminal and execute those, in my case (**you\n",
    "  need to replace the \"user\" part and possibly also the repository name**):"
   ]
  },
  {
   "cell_type": "code",
   "execution_count": null,
   "id": "a57193da-40c7-49d4-8f1f-3c9050425e79",
   "metadata": {},
   "outputs": [],
   "source": [
    "%cd recipe"
   ]
  },
  {
   "cell_type": "code",
   "execution_count": null,
   "id": "fd7cbe0c-ea39-4e06-a1d2-daf745d425be",
   "metadata": {},
   "outputs": [],
   "source": [
    "%%bash\n",
    "git status"
   ]
  },
  {
   "cell_type": "code",
   "execution_count": null,
   "id": "694558eb-4aad-4f95-9965-62dd3c47b2d6",
   "metadata": {},
   "outputs": [],
   "source": [
    "%%bash\n",
    "git remote add origin git@gitlab.etu.umontpellier.fr:julien.paul/recipe.git\n",
    "git push -u origin --all\n",
    "git push -u origin --tags"
   ]
  },
  {
   "cell_type": "markdown",
   "id": "334ab472-a49f-4a31-b0f3-2ec53e8331f3",
   "metadata": {},
   "source": [
    "The meaning of the above lines:\n",
    "- Add a remote reference with the name \"origin\"\n",
    "- Push all branches to \"origin\"\n",
    "- Push all tags to \"origin\""
   ]
  },
  {
   "cell_type": "markdown",
   "id": "a9f81bea-f72e-4772-8f6b-6d2dba10b64d",
   "metadata": {},
   "source": [
    "**Reload your Gitlab project website and - taa-daa - your commits should now be\n",
    "online!**\n",
    "\n",
    "What just happened? **Think of publishing a repository as uploading the `.git` part online**."
   ]
  },
  {
   "cell_type": "markdown",
   "id": "173b733f-d7ad-4f6e-875c-2c4093df428b",
   "metadata": {},
   "source": [
    "## Cloning a repository\n",
    "\n",
    "Now other people can clone this repository and contribute changes (adapt the \"namespace/repository.git\" part):\n",
    "\n",
    "```console\n",
    "$ git clone https://gitlab.etu.umontpellier.fr/julien.paul/recipe.git\n",
    "```\n",
    "\n",
    "This creates a directory called \"recipe\" unless it already exists. You can also specify the target directory\n",
    "on your computer:\n",
    "\n",
    "```console\n",
    "$ git clone https://gitlab.etu.umontpellier.fr/julien.paul/recipe.git myrecipe\n",
    "```\n",
    "\n",
    "What just happened? **Think of cloning as downloading the `.git` part to your\n",
    "computer**. After downloading the `.git` part the branch pointed to by HEAD is\n",
    "automatically checked out."
   ]
  },
  {
   "cell_type": "markdown",
   "id": "cc4ac2c2-1dea-4eae-974d-11c6021e4ad7",
   "metadata": {},
   "source": [
    "## Updating a local repository\n",
    "\n",
    "To update your local repository (.git) with the remote repository (gitlab)\n",
    "\n",
    "```console\n",
    "$ git pull origin\n",
    "```\n",
    "The git pull command updates both the user’s local Git repository and the files in their working directory.\n",
    "\n",
    "That provides the developer with two benefits:\n",
    "\n",
    "- The local Git repo is now in sync with the remote repo.\n",
    "- The local filesystem has the latest, most up to date files.\n",
    "\n",
    "> **Warning:**  \n",
    "> The git pull command has one prerequisite:  \n",
    ">  the user cannot be actively editing any tracked files in their local workspace that conflict with what’s on the remote server.\n",
    "\n",
    "If Git notices any conflicting files in the user’s workspace, it aborts the task of updating the user’s workspace and only updates the user’s local Git repo.\n",
    "\n",
    "If you are actively working on files tracked by Git, but you still want to update your local repository with the latest changes from a remote repository, use the git fetch command.\n",
    "\n",
    "```console\n",
    "$ git fetch origin\n",
    "```\n",
    "\n",
    "A git fetch updates your local repo with all of the latest changes from a remote repo but doesn’t make any changes to your local workspace.\n",
    "\n",
    "The benefit of the git fetch vs git pull is that a fetch enables you to continue editing files in your local working directory without having to merge your code with updates from the remote repo.\n",
    "\n",
    "With a git fetch, you can finish editing files locally, commit your files and then do a git merge to synchronize your updates with the fetched files. This brings you up to date with the updates the fetch pulled down from the remote machine.\n",
    "\n",
    "\n",
    "> **Note: An aborted git pull is a fetch**  \n",
    ">\n",
    "> If you try to do a git pull operation, but your working directory has uncommitted files, or a copy of the remote files into your workspace would create a merge conflict, the git pull operation short-circuits and turns into a git fetch operation instead. All of the updates from the remote repository are copied into your local Git repository, but the system leaves your local workspace alone.\n",
    ">\n",
    "> `git pull` = `git fetch` + `git merge`\n",
    "\n",
    "<img src=\"img/pull-fetch.gif\" alt=\"\" width=\"500\" height=\"300\"/>"
   ]
  },
  {
   "cell_type": "markdown",
   "id": "5a24fe17-53fe-457b-9c16-467a48cf144a",
   "metadata": {},
   "source": [
    "# Practical advice"
   ]
  },
  {
   "cell_type": "markdown",
   "id": "a909c5eb-ebc9-4d42-a571-88983e3e5992",
   "metadata": {},
   "source": [
    "## Pull before Push\n",
    "\n",
    "Before you try to push code out to the repository, you should always pull all the current changes from the remote repository to your local machine. Doing so will ensure that your local copy is in sync with the remote repository. Remember, other people have been pushing to the remote copy, and if you push before syncing up, you could end up with multiple heads or merge conflicts when you push.\n",
    "\n",
    "By default, Git will not allow you to push changes onto a branch that has remote commits. You can turn this feature off, but it’s not recommended.\n",
    "\n",
    "## Pull frequently\n",
    "\n",
    "On large teams, the central repository will continuously be changing. You should endeavor to keep your local machine as close to the remote repository as possible. The way to do that is to pull all the changes on the remote server to your local copy. You can do this as often as you like, and should do it frequently — at least once a day if not more.\n",
    "\n",
    "## Push infrequently\n",
    "\n",
    "When you push, you are inflicting your changes on others. You should only do this when you know you won’t break the build, when you have carefully reviewed what it is that you are pushing, and when you feel that your local code is in a state that will be useful to others.\n",
    "\n",
    "Remember, when you push, everyone will see what you’ve done. Be sure it’s right.\n",
    "\n",
    "## Commit Frequently\n",
    "\n",
    "Many developers don’t commit often enough. They end up committing after making many changes, and their comment is, as a result, inadequate to describe all the changes made. Trying to review large, ponderous commits is irritating and counter-productive.\n",
    "\n",
    "Instead, you should often commit small, single changes with carefully crafted commit messages that tell what the small, discrete change is. There’s nothing wrong with many little easily-understood commits. Each commit should be a logical, distinct change to your code. If you feel the need to use the word “and” in your commit message, you are probably not committing often enough. Small commits are easier to understand and to revert later if need be.\n",
    "\n",
    "## Merge “forward” frequently\n",
    "\n",
    "Assuming that you are using a standard Git workflow, you’re likely spending most of your time on a branch that originated on the develop branch. Wherever your branch originated, you should frequently merge the original branch into yours.\n",
    "\n",
    "By doing so, you ensure that your branch doesn’t diverge too far from the original branch — remember, others will be changing that original branch as well. You’ll limit merge conflicts and generally make your life easier by doing so.\n",
    "Create Pull Requests Infrequently\n",
    "\n",
    "While you can merge “forward” as much as you want, you should be far more cautious in creating pull requests to merge your code back into the develop branch.\n",
    "\n",
    "Your organization will likely have a policy on pull requests, but you should take care in creating them. A pull request is asking people to look your code over with a fine-toothed comb, so do them with care. You should make a pull request only after your code is in a state that will result in a clear, discrete, and complete addition to the code base. Again, if you feel the need to use the word “and” in describing your pull request, it’s likely too big.\n",
    "\n",
    "Create pull requests infrequently and with care."
   ]
  },
  {
   "cell_type": "markdown",
   "id": "edbc4a98-72b7-461c-846f-a23dcb854b7b",
   "metadata": {},
   "source": [
    "# Summary\n",
    "```\n",
    "$ git remote add origin <url>   # set up remote repository <url> as 'origin'\n",
    "$ git clone <url>               # copy git repository from remote repository\n",
    "$ git push origin <name>        # push changes from branch <name> on remote repository\n",
    "$ git push origin --all         # push changes from all branches on remote repository\n",
    "$ git pull origin               # pull changes from remote repository to local and working repository\n",
    "```\n",
    "\n",
    "<img src=\"img/git-basic-commands.png\" alt=\"\" width=\"500\" height=\"300\"/>"
   ]
  },
  {
   "cell_type": "markdown",
   "id": "b94b4f07-ff40-48d9-af95-6c10817c2a3a",
   "metadata": {},
   "source": [
    "---\n",
    "\n",
    "[back <](git-conflict.ipynb)  [menu](../git-intro.ipynb)  > next  \n",
    "\n",
    "---"
   ]
  }
 ],
 "metadata": {
  "kernelspec": {
   "display_name": "Python 3 (ipykernel)",
   "language": "python",
   "name": "python3"
  },
  "language_info": {
   "codemirror_mode": {
    "name": "ipython",
    "version": 3
   },
   "file_extension": ".py",
   "mimetype": "text/x-python",
   "name": "python",
   "nbconvert_exporter": "python",
   "pygments_lexer": "ipython3",
   "version": "3.11.3"
  }
 },
 "nbformat": 4,
 "nbformat_minor": 5
}
