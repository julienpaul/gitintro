{
 "cells": [
  {
   "cell_type": "markdown",
   "id": "7e589d8d-7afe-4fac-96a3-87d5b7132168",
   "metadata": {},
   "source": [
    "# Configure Git"
   ]
  },
  {
   "cell_type": "markdown",
   "id": "bad908be-cc1f-4f83-8bb2-38074cbcdc75",
   "metadata": {},
   "source": [
    "## Setting user name and email"
   ]
  },
  {
   "cell_type": "code",
   "execution_count": null,
   "id": "f662fd37-f31a-496a-a828-b3fdd256be5e",
   "metadata": {},
   "outputs": [],
   "source": [
    "%%bash\n",
    "# git config --global user.name \"Your name\"\n",
    "# git config --global user.email yourname@example.com"
   ]
  },
  {
   "cell_type": "markdown",
   "id": "2cefe6da-5bb2-4392-b437-c4f9add91afe",
   "metadata": {},
   "source": [
    "## Setting an editor"
   ]
  },
  {
   "cell_type": "code",
   "execution_count": null,
   "id": "3206c2da-3747-4e6f-9cc6-6e2cf7a1be1d",
   "metadata": {},
   "outputs": [],
   "source": [
    "%%bash\n",
    "git config --global core.editor vim"
   ]
  },
  {
   "cell_type": "markdown",
   "id": "491b3b95-a61b-4b12-b228-01646b495674",
   "metadata": {},
   "source": [
    "Exhaustive list of core.editor configuration commands [here](https://git-scm.com/book/en/v2/Appendix-C%3A-Git-Commands-Setup-and-Config)"
   ]
  },
  {
   "cell_type": "markdown",
   "id": "90c657a8-a405-475c-8eed-83cab3096ab1",
   "metadata": {},
   "source": [
    "## Renaming the default branch (git >= 2.28)"
   ]
  },
  {
   "cell_type": "code",
   "execution_count": null,
   "id": "d7795130-7d68-453c-ab08-116032e4fe46",
   "metadata": {},
   "outputs": [],
   "source": [
    "%%bash\n",
    "git config --global init.defaultBranch main"
   ]
  },
  {
   "cell_type": "markdown",
   "id": "ac9053a7-f628-41ef-b786-bcc3dd9dc841",
   "metadata": {},
   "source": [
    "## Show config settings"
   ]
  },
  {
   "cell_type": "code",
   "execution_count": null,
   "id": "122afec1-3ab0-4e7d-a6c3-45155419a5d8",
   "metadata": {
    "scrolled": true
   },
   "outputs": [],
   "source": [
    "%%bash\n",
    "git config --list"
   ]
  },
  {
   "cell_type": "markdown",
   "id": "56ddcec2-2bf1-4577-8433-521a31536476",
   "metadata": {},
   "source": [
    "From where each configuration entry was taken:"
   ]
  },
  {
   "cell_type": "code",
   "execution_count": null,
   "id": "d53cd17f-f268-465c-b8f5-25ff2afef235",
   "metadata": {},
   "outputs": [],
   "source": [
    "%%bash\n",
    "git config --list --show-origin"
   ]
  },
  {
   "cell_type": "markdown",
   "id": "b94b4f07-ff40-48d9-af95-6c10817c2a3a",
   "metadata": {},
   "source": [
    "---\n",
    "\n",
    "[back <](git-config.ipynb)  [menu](../git-intro.ipynb)  [> next](git-basics.ipynb)  \n",
    "\n",
    "---"
   ]
  }
 ],
 "metadata": {
  "kernelspec": {
   "display_name": "Python 3 (ipykernel)",
   "language": "python",
   "name": "python3"
  },
  "language_info": {
   "codemirror_mode": {
    "name": "ipython",
    "version": 3
   },
   "file_extension": ".py",
   "mimetype": "text/x-python",
   "name": "python",
   "nbconvert_exporter": "python",
   "pygments_lexer": "ipython3",
   "version": "3.11.3"
  }
 },
 "nbformat": 4,
 "nbformat_minor": 5
}
