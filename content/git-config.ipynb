{
 "cells": [
  {
   "cell_type": "markdown",
   "id": "7e589d8d-7afe-4fac-96a3-87d5b7132168",
   "metadata": {},
   "source": [
    "# Configure Git"
   ]
  },
  {
   "cell_type": "markdown",
   "id": "bad908be-cc1f-4f83-8bb2-38074cbcdc75",
   "metadata": {},
   "source": [
    "## Setting user name and email"
   ]
  },
  {
   "cell_type": "code",
   "execution_count": null,
   "id": "f662fd37-f31a-496a-a828-b3fdd256be5e",
   "metadata": {},
   "outputs": [],
   "source": [
    "%%bash\n",
    "# git config --global user.name \"Your name\"\n",
    "# git config --global user.email yourname@example.com"
   ]
  },
  {
   "cell_type": "markdown",
   "id": "2cefe6da-5bb2-4392-b437-c4f9add91afe",
   "metadata": {},
   "source": [
    "## Setting an editor"
   ]
  },
  {
   "cell_type": "code",
   "execution_count": null,
   "id": "3206c2da-3747-4e6f-9cc6-6e2cf7a1be1d",
   "metadata": {},
   "outputs": [],
   "source": [
    "%%bash\n",
    "git config --global core.editor vim"
   ]
  },
  {
   "cell_type": "markdown",
   "id": "491b3b95-a61b-4b12-b228-01646b495674",
   "metadata": {},
   "source": [
    "Exhaustive list of core.editor configuration commands [here](https://git-scm.com/book/en/v2/Appendix-C%3A-Git-Commands-Setup-and-Config)"
   ]
  },
  {
   "cell_type": "markdown",
   "id": "90c657a8-a405-475c-8eed-83cab3096ab1",
   "metadata": {},
   "source": [
    "## Renaming the default branch (git >= 2.28)"
   ]
  },
  {
   "cell_type": "code",
   "execution_count": null,
   "id": "d7795130-7d68-453c-ab08-116032e4fe46",
   "metadata": {},
   "outputs": [],
   "source": [
    "%%bash\n",
    "git config --global init.defaultBranch main"
   ]
  },
  {
   "cell_type": "markdown",
   "id": "ac9053a7-f628-41ef-b786-bcc3dd9dc841",
   "metadata": {},
   "source": [
    "## Show config settings"
   ]
  },
  {
   "cell_type": "code",
   "execution_count": null,
   "id": "122afec1-3ab0-4e7d-a6c3-45155419a5d8",
   "metadata": {
    "scrolled": true
   },
   "outputs": [],
   "source": [
    "%%bash\n",
    "git config --list"
   ]
  },
  {
   "cell_type": "markdown",
   "id": "56ddcec2-2bf1-4577-8433-521a31536476",
   "metadata": {},
   "source": [
    "From where each configuration entry was taken:"
   ]
  },
  {
   "cell_type": "code",
   "execution_count": null,
   "id": "d53cd17f-f268-465c-b8f5-25ff2afef235",
   "metadata": {},
   "outputs": [],
   "source": [
    "%%bash\n",
    "git config --list --show-origin"
   ]
  },
  {
   "cell_type": "markdown",
   "id": "f965e55a-8a24-4fc1-878f-d2a9c7110986",
   "metadata": {},
   "source": [
    "## Ignoring files and paths with .gitignore"
   ]
  },
  {
   "cell_type": "markdown",
   "id": "7a07bac2-dfc5-4cf4-8db5-5bfa34cf8222",
   "metadata": {},
   "source": [
    "Compiled and generated files are not\n",
    "committed to version control. There are many reasons for this:\n",
    "\n",
    "- Your code could be run on different platforms.\n",
    "- These files are automatically generated and thus do not contribute in any meaningful way.\n",
    "- The number of changes to track per source code change can increase quickly.\n",
    "- When tracking generated files you could see differences in the code although you haven't touched the code.\n",
    "\n",
    "For this we use `.gitignore` files. Example:\n",
    "\n",
    "```shell\n",
    "# ignore compiled python 2 files\n",
    "*.pyc\n",
    "# ignore compiled python 3 files\n",
    "__pycache__\n",
    "```\n",
    "\n",
    "- `.gitignore` should be part of the repository because we want to make sure that all developers see the same behavior.\n",
    "- **All files should be either tracked or ignored**.\n",
    "- `.gitignore` uses something called a\n",
    "  [shell glob syntax](https://en.wikipedia.org/wiki/Glob_(programming)) for\n",
    "  determining file patterns to ignore. You can read more about the syntax in the\n",
    "  [documentation](https://git-scm.com/docs/gitignore).\n",
    "- You can have `.gitignore` files in lower level directories and they affect the paths\n",
    "  relatively.\n",
    "\n",
    "There are several collections of .gitignore templates available ([GitHub](https://github.com/github/gitignore/tree/main), [toptal](https://github.com/toptal/gitignore/tree/master), ...)   \n",
    "Example from [GitHub's collection](https://github.com/github/gitignore/tree/main):  \n",
    "    - [Python .gitignore](https://github.com/github/gitignore/blob/main/Python.gitignore)  \n",
    "    - [Fortran .gitignore](https://github.com/github/gitignore/blob/main/C%2B%2B.gitignore)\n",
    "\n",
    "  \n",
    "  "
   ]
  },
  {
   "cell_type": "markdown",
   "id": "b94b4f07-ff40-48d9-af95-6c10817c2a3a",
   "metadata": {},
   "source": [
    "---\n",
    "\n",
    "[back <](git-config.ipynb)  [menu](../git-intro.ipynb)  [> next](git-basics.ipynb)  \n",
    "\n",
    "---"
   ]
  }
 ],
 "metadata": {
  "kernelspec": {
   "display_name": "Python 3 (ipykernel)",
   "language": "python",
   "name": "python3"
  },
  "language_info": {
   "codemirror_mode": {
    "name": "ipython",
    "version": 3
   },
   "file_extension": ".py",
   "mimetype": "text/x-python",
   "name": "python",
   "nbconvert_exporter": "python",
   "pygments_lexer": "ipython3",
   "version": "3.11.3"
  }
 },
 "nbformat": 4,
 "nbformat_minor": 5
}
