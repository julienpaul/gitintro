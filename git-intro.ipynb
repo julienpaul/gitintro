{
 "cells": [
  {
   "cell_type": "markdown",
   "id": "d697d073-1425-4c9c-8f5b-14f6dfa54e1d",
   "metadata": {},
   "source": [
    "# Introduction to Git"
   ]
  },
  {
   "cell_type": "markdown",
   "id": "4757e8de-5911-4085-8b6a-404a0428f776",
   "metadata": {},
   "source": [
    "This course is based on [coderefinery](https://coderefinery.org/) lesson [git-intro](https://coderefinery.github.io/git-intro/)"
   ]
  },
  {
   "attachments": {},
   "cell_type": "markdown",
   "id": "86cf02c4-994f-42d0-ae26-b46841d6abad",
   "metadata": {},
   "source": [
    "1.  [Motivation](content/git-motivation.ipynb)\n",
    "3.  [Configuration](content/git-config.ipynb)\n",
    "4.  [Basics](content/git-basics.ipynb)\n",
    "5.  [Branching and Merging](content/git-branches.ipynb)\n",
    "6.  [Conflict Resolution](content/git-conflict.ipynb)\n",
    "7.  [Sharing repositories online](content/git-online.ipynb)\n",
    "\n",
    "---"
   ]
  },
  {
   "cell_type": "markdown",
   "id": "b21d46e6-df97-4f95-bcfe-1dfd64db93dc",
   "metadata": {},
   "source": [
    "Bibliography:\n",
    "- [ProGit](https://git-scm.com/book/en/v2)"
   ]
  }
 ],
 "metadata": {
  "kernelspec": {
   "display_name": "Python 3 (ipykernel)",
   "language": "python",
   "name": "python3"
  },
  "language_info": {
   "codemirror_mode": {
    "name": "ipython",
    "version": 3
   },
   "file_extension": ".py",
   "mimetype": "text/x-python",
   "name": "python",
   "nbconvert_exporter": "python",
   "pygments_lexer": "ipython3",
   "version": "3.11.3"
  }
 },
 "nbformat": 4,
 "nbformat_minor": 5
}
